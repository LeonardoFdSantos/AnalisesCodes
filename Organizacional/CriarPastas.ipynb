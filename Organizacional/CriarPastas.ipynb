{
 "cells": [
  {
   "cell_type": "code",
   "execution_count": 1,
   "metadata": {
    "pycharm": {
     "is_executing": false
    }
   },
   "outputs": [],
   "source": [
    "import os\n",
    "import pandas as pd\n",
    "import numpy as np"
   ]
  },
  {
   "cell_type": "code",
   "execution_count": 2,
   "metadata": {
    "pycharm": {
     "is_executing": false
    }
   },
   "outputs": [
    {
     "data": {
      "text/plain": "                            Nome\n0           01 - Marlon Colovini\n1           02 - Mara Barichello\n2             03 - Jandira Dutra\n3      04 - Luiz Fernando Kruger\n4                05 - Paulo Bohn\n..                           ...\n68        70 - Silvana Meneghini\n69   71 - Eficaz Engenharia Ltda\n70    72 - Tania Regina Schmaltz\n71   73 - Camila Ceretta Segatto\n72  74 - Vagner Ribas Dos Santos\n\n[73 rows x 1 columns]",
      "text/html": "<div>\n<style scoped>\n    .dataframe tbody tr th:only-of-type {\n        vertical-align: middle;\n    }\n\n    .dataframe tbody tr th {\n        vertical-align: top;\n    }\n\n    .dataframe thead th {\n        text-align: right;\n    }\n</style>\n<table border=\"1\" class=\"dataframe\">\n  <thead>\n    <tr style=\"text-align: right;\">\n      <th></th>\n      <th>Nome</th>\n    </tr>\n  </thead>\n  <tbody>\n    <tr>\n      <th>0</th>\n      <td>01 - Marlon Colovini</td>\n    </tr>\n    <tr>\n      <th>1</th>\n      <td>02 - Mara Barichello</td>\n    </tr>\n    <tr>\n      <th>2</th>\n      <td>03 - Jandira Dutra</td>\n    </tr>\n    <tr>\n      <th>3</th>\n      <td>04 - Luiz Fernando Kruger</td>\n    </tr>\n    <tr>\n      <th>4</th>\n      <td>05 - Paulo Bohn</td>\n    </tr>\n    <tr>\n      <th>...</th>\n      <td>...</td>\n    </tr>\n    <tr>\n      <th>68</th>\n      <td>70 - Silvana Meneghini</td>\n    </tr>\n    <tr>\n      <th>69</th>\n      <td>71 - Eficaz Engenharia Ltda</td>\n    </tr>\n    <tr>\n      <th>70</th>\n      <td>72 - Tania Regina Schmaltz</td>\n    </tr>\n    <tr>\n      <th>71</th>\n      <td>73 - Camila Ceretta Segatto</td>\n    </tr>\n    <tr>\n      <th>72</th>\n      <td>74 - Vagner Ribas Dos Santos</td>\n    </tr>\n  </tbody>\n</table>\n<p>73 rows × 1 columns</p>\n</div>"
     },
     "metadata": {},
     "output_type": "execute_result",
     "execution_count": 2
    }
   ],
   "source": [
    "nomes = pd.read_excel('Valores.xlsx',sheet_name='Pastas')\n",
    "nomes"
   ]
  },
  {
   "cell_type": "code",
   "execution_count": 3,
   "metadata": {
    "pycharm": {
     "is_executing": false
    }
   },
   "outputs": [
    {
     "data": {
      "text/plain": "74"
     },
     "metadata": {},
     "output_type": "execute_result",
     "execution_count": 3
    }
   ],
   "source": [
    "nomesloop = nomes['Nome']\n",
    "maximo = nomesloop.count()+1\n",
    "maximo"
   ]
  },
  {
   "cell_type": "code",
   "execution_count": 4,
   "metadata": {
    "pycharm": {
     "is_executing": false
    }
   },
   "outputs": [],
   "source": [
    "for i in range(1,maximo):\n",
    "    nome = nomesloop[:i:]\n",
    "    nome"
   ]
  },
  {
   "cell_type": "code",
   "execution_count": 5,
   "metadata": {
    "pycharm": {
     "is_executing": false
    }
   },
   "outputs": [
    {
     "data": {
      "text/plain": "0             01 - Marlon Colovini\n1             02 - Mara Barichello\n2               03 - Jandira Dutra\n3        04 - Luiz Fernando Kruger\n4                  05 - Paulo Bohn\n                  ...             \n68          70 - Silvana Meneghini\n69     71 - Eficaz Engenharia Ltda\n70      72 - Tania Regina Schmaltz\n71     73 - Camila Ceretta Segatto\n72    74 - Vagner Ribas Dos Santos\nName: Nome, Length: 73, dtype: object"
     },
     "metadata": {},
     "output_type": "execute_result",
     "execution_count": 5
    }
   ],
   "source": [
    "nome"
   ]
  },
  {
   "cell_type": "code",
   "execution_count": 6,
   "metadata": {
    "pycharm": {
     "is_executing": false
    }
   },
   "outputs": [],
   "source": [
    "path = './contas'\n",
    "for x in nome:\n",
    "    dir = path+'/'+x\n",
    "    if os.path.isdir(dir) == False:\n",
    "        os.makedirs(dir)"
   ]
  },
  {
   "cell_type": "code",
   "execution_count": 29,
   "metadata": {
    "pycharm": {
     "is_executing": false,
     "name": "#%%\n"
    }
   },
   "outputs": [],
   "source": [
    "import pdfminer\n",
    "from io import StringIO\n",
    "\n",
    "def convert_pdf_to_txt(path):\n",
    "    rsrcmgr = PDFResourceManager()\n",
    "    retstr = StringIO()\n",
    "    codec = 'utf-8'\n",
    "    laparams = LAParams()\n",
    "    device = TextConverter(rsrcmgr, retstr, codec=codec, laparams=laparams)\n",
    "    fp = open(path, 'rb')\n",
    "    interpreter = PDFPageInterpreter(rsrcmgr, device)\n",
    "    password = \"\"\n",
    "    maxpages = 0\n",
    "    caching = True\n",
    "    pagenos=set()\n",
    "\n",
    "    for page in PDFPage.get_pages(fp, pagenos, maxpages=maxpages, password=password,caching=caching, check_extractable=True):\n",
    "        interpreter.process_page(page)\n",
    "\n",
    "    text = retstr.getvalue()\n",
    "\n",
    "    fp.close()\n",
    "    device.close()\n",
    "    retstr.close()\n",
    "    return text\n"
   ]
  },
  {
   "cell_type": "code",
   "execution_count": 30,
   "outputs": [],
   "source": [],
   "metadata": {
    "collapsed": false,
    "pycharm": {
     "name": "#%%\n",
     "is_executing": false
    }
   }
  },
  {
   "cell_type": "code",
   "execution_count": null,
   "outputs": [],
   "source": [
    "\n"
   ],
<<<<<<< Updated upstream
   "metadata": {
    "collapsed": false,
    "pycharm": {
     "name": "#%%\n"
    }
   }
=======
   "source": [
    "#tentantiva de organizar arquivos por nome nas pastas\n",
    "localpastas = './organizar'\n",
    "teste='C:\\Dev\\GitsLeo\\Analises\\Pycharm\\organizar\\01 - Marlon - UC 01 - 2018-02.pdf'\n"
   ]
>>>>>>> Stashed changes
  }
 ],
 "metadata": {
  "kernelspec": {
   "display_name": "Python 3",
   "language": "python",
   "name": "python3"
  },
  "language_info": {
   "codemirror_mode": {
    "name": "ipython",
    "version": 3
   },
   "file_extension": ".py",
   "mimetype": "text/x-python",
   "name": "python",
   "nbconvert_exporter": "python",
   "pygments_lexer": "ipython3",
   "version": "3.6.9"
  },
  "pycharm": {
   "stem_cell": {
    "cell_type": "raw",
    "source": [],
    "metadata": {
     "collapsed": false
    }
   }
  }
 },
 "nbformat": 4,
 "nbformat_minor": 4
}