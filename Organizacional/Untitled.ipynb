{
 "cells": [
  {
   "cell_type": "code",
   "execution_count": 1,
   "metadata": {
    "pycharm": {
     "is_executing": false
    }
   },
   "outputs": [],
   "source": [
    "import os\n",
    "import sys\n",
    "from pathlib import Path\n",
    "import shutil\n",
    "import pandas as pd"
   ]
  },
  {
   "cell_type": "code",
   "execution_count": 17,
   "metadata": {
    "pycharm": {
     "is_executing": false
    }
   },
   "outputs": [],
   "source": [
    "nomes = pd.read_excel('Valores.xlsx',sheet_name='Pastas')\n",
    "nomesloop = nomes['Nome']\n",
    "maximo = nomesloop.count()+1"
   ]
  },
  {
   "cell_type": "code",
   "execution_count": 18,
   "metadata": {
    "pycharm": {
     "is_executing": false
    }
   },
   "outputs": [
    {
     "name": "stdout",
     "text": [
      "01 - Marlon Colovini\n02 - Mara Barichello\n03 - Jandira Dutra\n04 - Luiz Fernando Kruger\n05 - Paulo Bohn\n06 - Analia (Clodoaldo Entre-Ijuis)\n07 - Biroh\n08 - Gelson Posser\n09 - Supermercado Caryone\n10 - Ernani Minetto\n11 - Jair Moscon\n12 - Fabio Milke\n13 - Piaia\n14 - Osmar Veronese\n15 - José Luiz Moraes\n16 - Supermercado Cripy\n17 - Gláucio Lipski (Giruá)\n18 - Contri\n19 - Cleci Rubi\n20 - Betine Rost\n21 - Robinson Fetter\n22 - Fabio De Moura\n23 - Rochele Santos Moraes\n24 - Auto Posto Kairã\n25 - Erno Schiefelbain\n26 - José Paulo Backes\n27 - Gelso Tofolo\n28 - Diamantino\n29 - Mercado Bueno\n30 - Daniela Donadel Massalai\n31 - Comercio De Moto Peças Irmãos Guarani Ltda\n32 - Mauricio Luis Lunardi\n33 - Rosa Maria Restle Radunz\n34 - Ivo Amaral De Oliveira\n35 - Silvio Robert Lemos Avila\n36 - Eldo Rost\n37 - Padaria Avenida\n38 - Cristiano Anshau\n39 - Luciana Claudete Meirelles Correa\n40 - Marcio Jose Siqueira\n41 - Marcos Rogerio Kessler\n42 - AABB\n43 - Wanda Burkard\n44 - Silvio Robert Lemos Avila Me\n45 - Carmelo\n46 - Antonio Dal Forno\n47 - Marisane Paulus\n48 - Segatto Ceretta Ltda\n49 - APAE\n50 - Cássio Burin\n51 - Patrick Kristoschek Da Silva\n52 - Silvio Robert Ávila - (Valmir)\n53 - Zederson Jose Della Flora\n54 - Carlos Walmir Larsão Rolim\n55 - Danieli Missio\n56 - José Vasconcellos\n57 - Linho Lev Alimentos\n58 - Ernani Czapla\n59 - Valesca Da Luz\n60 - Olavo Mildner\n61 - Dilnei Rohled\n62 - Shaiana Signorini\n63 - Fonse Atacado\n64 - Comercial de Alimentos\n65 - Ivone Kasburg Serralheria\n66 - Mercado Ceretta\n67 - Antonio Carlos Dos Santos Pereira\n68 - Volnei Lemos Avila - Me\n69 - Silvana Meneghini\n70 - Eficaz Engenharia Ltda\n71 - Tania Regina Schmaltz\n72 - Camila Ceretta Segatto\n73 - Vagner Ribas Dos Santos\n"
     ],
     "output_type": "stream"
    }
   ],
   "source": [
    "for i in nomesloop:\n",
    "    print(i)"
   ]
  },
  {
   "cell_type": "code",
   "execution_count": 19,
   "metadata": {
    "pycharm": {
     "is_executing": false
    }
   },
   "outputs": [],
   "source": [
    "path = './contas'\n",
    "for x in nome:\n",
    "    dir = path+'/'+x\n",
    "    if os.path.isdir(dir) == False:\n",
    "        os.makedirs(dir)\n",
    "        "
   ]
  },
  {
   "cell_type": "code",
   "execution_count": null,
   "outputs": [],
   "source": [
    "\n"
   ],
   "metadata": {
    "collapsed": false,
    "pycharm": {
     "name": "#%%\n"
    }
   }
  }
 ],
 "metadata": {
  "kernelspec": {
   "display_name": "Python 3",
   "language": "python",
   "name": "python3"
  },
  "language_info": {
   "codemirror_mode": {
    "name": "ipython",
    "version": 3
   },
   "file_extension": ".py",
   "mimetype": "text/x-python",
   "name": "python",
   "nbconvert_exporter": "python",
   "pygments_lexer": "ipython3",
   "version": "3.6.9"
  },
  "pycharm": {
   "stem_cell": {
    "cell_type": "raw",
    "source": [],
    "metadata": {
     "collapsed": false
    }
   }
  }
 },
 "nbformat": 4,
 "nbformat_minor": 2
}