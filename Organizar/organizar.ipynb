{
 "cells": [
  {
   "cell_type": "code",
   "execution_count": 1,
   "outputs": [],
   "source": [
    "import os\n",
    "import sys\n",
    "from pathlib import Path\n",
    "import shutil\n",
    "import pandas as pd\n",
    "from datetime import date\n",
    "\n"
   ],
   "metadata": {
    "collapsed": false,
    "pycharm": {
     "name": "#%%\n",
     "is_executing": false
    }
   }
  },
  {
   "cell_type": "code",
   "execution_count": 2,
   "outputs": [],
   "source": [
    "def files_path(path):\n",
    "    return [os.path.join(file) for p, _, files in os.walk(os.path.abspath(path)) for file in files]\n",
    "\n",
    "def files_path1(*args):\n",
    "    l = []\n",
    "    k = []\n",
    "    for item in args:\n",
    "        for p, _, files in os.walk(os.path.abspath(item)):\n",
    "            for file in files:\n",
    "                l.append((file))\n",
    "                k.append((p+'\\\\'+file))\n",
    "    return (l, k)"
   ],
   "metadata": {
    "collapsed": false,
    "pycharm": {
     "name": "#%%\n",
     "is_executing": false
    }
   }
  },
  {
   "cell_type": "code",
   "execution_count": 4,
   "outputs": [],
   "source": [
    "diretorios = os.listdir('./contas/')\n",
    "files2 = files_path1('./organização/')"
   ],
   "metadata": {
    "collapsed": false,
    "pycharm": {
     "name": "#%%\n",
     "is_executing": false
    }
   }
  },
  {
   "cell_type": "code",
   "execution_count": 5,
   "outputs": [],
   "source": [
    "for lista in diretorios:\n",
    "    for i in files2[0]:\n",
    "        for j in files2[1]:\n",
    "            jn = j.split('\\\\')\n",
    "            if i == jn[6] and lista[:9:] == i[:9:]:\n",
    "                ondeVem = (jn[0]+'\\\\'+jn[1]+'\\\\'+jn[2]+'\\\\'+jn[3]+'\\\\'+jn[4]+'\\\\'+jn[5]+'\\\\'+jn[6])\n",
    "                destino = ('./'+lista+'/')\n",
    "                shutil.move(ondeVem, destino)"
   ],
   "metadata": {
    "collapsed": false,
    "pycharm": {
     "name": "#%%\n",
     "is_executing": false
    }
   }
  },
  {
   "cell_type": "code",
   "execution_count": null,
   "outputs": [],
   "source": [
    "\n"
   ],
   "metadata": {
    "collapsed": false,
    "pycharm": {
     "name": "#%%\n"
    }
   }
  }
 ],
 "metadata": {
  "kernelspec": {
   "display_name": "Python 3",
   "language": "python",
   "name": "python3"
  },
  "language_info": {
   "codemirror_mode": {
    "name": "ipython",
    "version": 3
   },
   "file_extension": ".py",
   "mimetype": "text/x-python",
   "name": "python",
   "nbconvert_exporter": "python",
   "pygments_lexer": "ipython3",
   "version": "3.6.9"
  },
  "pycharm": {
   "stem_cell": {
    "cell_type": "raw",
    "source": [],
    "metadata": {
     "collapsed": false
    }
   }
  }
 },
 "nbformat": 4,
 "nbformat_minor": 4
}