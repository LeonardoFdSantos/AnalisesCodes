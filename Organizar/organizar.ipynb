{
 "cells": [
  {
   "cell_type": "code",
   "execution_count": 3,
   "metadata": {
    "pycharm": {
     "is_executing": false
    }
   },
   "outputs": [],
   "source": [
    "import os\n",
    "import sys\n",
    "from pathlib import Path\n",
    "import shutil\n",
    "import pandas as pd\n",
    "from datetime import date"
   ]
  },
  {
   "cell_type": "code",
   "execution_count": 4,
   "metadata": {
    "jupyter": {
     "outputs_hidden": false
    },
    "pycharm": {
     "is_executing": false,
     "name": "#%%\n"
    }
   },
   "outputs": [],
   "source": [
    "def files_path(path):\n",
    "    return [os.path.join(file) for p, _, files in os.walk(os.path.abspath(path)) for file in files]"
   ]
  },
  {
   "cell_type": "code",
   "execution_count": 5,
   "metadata": {
    "jupyter": {
     "outputs_hidden": false
    },
    "pycharm": {
     "is_executing": false,
     "name": "#%%\n"
    }
   },
   "outputs": [
    {
     "data": {
      "text/plain": "'01 - Marlon - UC 01 - 2018-02.pdf'"
     },
     "metadata": {},
     "output_type": "execute_result",
     "execution_count": 5
    }
   ],
   "source": [
    "files = files_path('./CONSOLIDADOS - ÚLTIMAS CONTAS')\n",
    "files[5]"
   ]
  },
  {
   "cell_type": "code",
   "execution_count": 6,
   "metadata": {
    "jupyter": {
     "outputs_hidden": false
    },
    "pycharm": {
     "is_executing": false,
     "name": "#%%\n"
    }
   },
   "outputs": [],
   "source": [
    "def files_path1(*args):\n",
    "    l = []\n",
    "    k = []\n",
    "    for item in args:\n",
    "        for p, _, files in os.walk(os.path.abspath(item)):\n",
    "            for file in files:\n",
    "                l.append((file))\n",
    "                k.append((p+'\\\\'+file))\n",
    "    return (l, k)"
   ]
  },
  {
   "cell_type": "code",
   "execution_count": 7,
   "metadata": {
    "jupyter": {
     "outputs_hidden": false
    },
    "pycharm": {
     "is_executing": false,
     "name": "#%%\n"
    }
   },
   "outputs": [
    {
     "data": {
      "text/plain": "'D:\\\\Dev\\\\Gits_leo\\\\Analises\\\\Pycharm\\\\CONSOLIDADOS - ÚLTIMAS CONTAS\\\\01 - Marlon Colovini\\\\01 - Marlon - UC 01 - 2018-02.pdf'"
     },
     "metadata": {},
     "output_type": "execute_result",
     "execution_count": 7
    }
   ],
   "source": [
    "diretorios = os.listdir('./contas/')\n",
    "files2 = files_path1('./CONSOLIDADOS - ÚLTIMAS CONTAS/')\n",
    "files2[1][5]"
   ]
  },
  {
   "cell_type": "code",
   "execution_count": 27,
   "metadata": {
    "jupyter": {
     "outputs_hidden": false
    },
    "pycharm": {
     "is_executing": false,
     "name": "#%%\n"
    }
   },
   "outputs": [
    {
     "name": "stdout",
     "output_type": "stream",
     "text": [
      "25 - Erno Sc \\ 25 - Erno Sc \\ C:\\Dev\\GitsLeo\\Analises\\Pycharm\\organizar\\25 - Erno Schiefelbain -  2018-11.pdf \\ C:/Dev/GitsLeo/Analises/Pycharm/contas/25 - Erno Schiefelbain/\n",
      "Copiado com sucesso!\n",
      "\n",
      "25 - Erno Sc \\ 25 - Erno Sc \\ C:\\Dev\\GitsLeo\\Analises\\Pycharm\\organizar\\25 - Erno Schiefelbain - 2018-12.pdf \\ C:/Dev/GitsLeo/Analises/Pycharm/contas/25 - Erno Schiefelbain/\n",
      "Copiado com sucesso!\n",
      "\n",
      "25 - Erno Sc \\ 25 - Erno Sc \\ C:\\Dev\\GitsLeo\\Analises\\Pycharm\\organizar\\25 - Erno Schiefelbain - 2019-01.pdf \\ C:/Dev/GitsLeo/Analises/Pycharm/contas/25 - Erno Schiefelbain/\n",
      "Copiado com sucesso!\n",
      "\n",
      "25 - Erno Sc \\ 25 - Erno Sc \\ C:\\Dev\\GitsLeo\\Analises\\Pycharm\\organizar\\25 - Erno Schiefelbain - 2019-02.pdf \\ C:/Dev/GitsLeo/Analises/Pycharm/contas/25 - Erno Schiefelbain/\n",
      "Copiado com sucesso!\n",
      "\n",
      "25 - Erno Sc \\ 25 - Erno Sc \\ C:\\Dev\\GitsLeo\\Analises\\Pycharm\\organizar\\25 - Erno Schiefelbain - 2019-03.pdf \\ C:/Dev/GitsLeo/Analises/Pycharm/contas/25 - Erno Schiefelbain/\n",
      "Copiado com sucesso!\n",
      "\n",
      "25 - Erno Sc \\ 25 - Erno Sc \\ C:\\Dev\\GitsLeo\\Analises\\Pycharm\\organizar\\25 - Erno Schiefelbain - 2019-04.pdf \\ C:/Dev/GitsLeo/Analises/Pycharm/contas/25 - Erno Schiefelbain/\n",
      "Copiado com sucesso!\n",
      "\n",
      "25 - Erno Sc \\ 25 - Erno Sc \\ C:\\Dev\\GitsLeo\\Analises\\Pycharm\\organizar\\25 - Erno Schiefelbain - 2019-05.pdf \\ C:/Dev/GitsLeo/Analises/Pycharm/contas/25 - Erno Schiefelbain/\n",
      "Copiado com sucesso!\n",
      "\n",
      "25 - Erno Sc \\ 25 - Erno Sc \\ C:\\Dev\\GitsLeo\\Analises\\Pycharm\\organizar\\25 - Erno Schiefelbain - 2019-06.pdf \\ C:/Dev/GitsLeo/Analises/Pycharm/contas/25 - Erno Schiefelbain/\n",
      "Copiado com sucesso!\n",
      "\n",
      "25 - Erno Sc \\ 25 - Erno Sc \\ C:\\Dev\\GitsLeo\\Analises\\Pycharm\\organizar\\25 - Erno Schiefelbain - 2019-07.pdf \\ C:/Dev/GitsLeo/Analises/Pycharm/contas/25 - Erno Schiefelbain/\n",
      "Copiado com sucesso!\n",
      "\n",
      "25 - Erno Sc \\ 25 - Erno Sc \\ C:\\Dev\\GitsLeo\\Analises\\Pycharm\\organizar\\25 - Erno Schiefelbain - 2019-08.pdf \\ C:/Dev/GitsLeo/Analises/Pycharm/contas/25 - Erno Schiefelbain/\n",
      "Copiado com sucesso!\n",
      "\n",
      "25 - Erno Sc \\ 25 - Erno Sc \\ C:\\Dev\\GitsLeo\\Analises\\Pycharm\\organizar\\25 - Erno Schiefelbain - 2019-09.pdf \\ C:/Dev/GitsLeo/Analises/Pycharm/contas/25 - Erno Schiefelbain/\n",
      "Copiado com sucesso!\n",
      "\n",
      "26 - José Pa \\ 26 - José Pa \\ C:\\Dev\\GitsLeo\\Analises\\Pycharm\\organizar\\26 - José Paulo Backes - 2018-11.pdf \\ C:/Dev/GitsLeo/Analises/Pycharm/contas/26 - José Paulo Backes/\n",
      "Copiado com sucesso!\n",
      "\n",
      "26 - José Pa \\ 26 - José Pa \\ C:\\Dev\\GitsLeo\\Analises\\Pycharm\\organizar\\26 - José Paulo Backes - 2018-12.pdf \\ C:/Dev/GitsLeo/Analises/Pycharm/contas/26 - José Paulo Backes/\n",
      "Copiado com sucesso!\n",
      "\n",
      "26 - José Pa \\ 26 - José Pa \\ C:\\Dev\\GitsLeo\\Analises\\Pycharm\\organizar\\26 - José Paulo Backes - 2019-01.pdf \\ C:/Dev/GitsLeo/Analises/Pycharm/contas/26 - José Paulo Backes/\n",
      "Copiado com sucesso!\n",
      "\n",
      "26 - José Pa \\ 26 - José Pa \\ C:\\Dev\\GitsLeo\\Analises\\Pycharm\\organizar\\26 - José Paulo Backes - 2019-02.pdf \\ C:/Dev/GitsLeo/Analises/Pycharm/contas/26 - José Paulo Backes/\n",
      "Copiado com sucesso!\n",
      "\n",
      "26 - José Pa \\ 26 - José Pa \\ C:\\Dev\\GitsLeo\\Analises\\Pycharm\\organizar\\26 - José Paulo Backes - 2019-03.pdf \\ C:/Dev/GitsLeo/Analises/Pycharm/contas/26 - José Paulo Backes/\n",
      "Copiado com sucesso!\n",
      "\n",
      "26 - José Pa \\ 26 - José Pa \\ C:\\Dev\\GitsLeo\\Analises\\Pycharm\\organizar\\26 - José Paulo Backes - 2019-04.pdf \\ C:/Dev/GitsLeo/Analises/Pycharm/contas/26 - José Paulo Backes/\n",
      "Copiado com sucesso!\n",
      "\n",
      "26 - José Pa \\ 26 - José Pa \\ C:\\Dev\\GitsLeo\\Analises\\Pycharm\\organizar\\26 - José Paulo Backes - 2019-05.pdf \\ C:/Dev/GitsLeo/Analises/Pycharm/contas/26 - José Paulo Backes/\n",
      "Copiado com sucesso!\n",
      "\n",
      "26 - José Pa \\ 26 - José Pa \\ C:\\Dev\\GitsLeo\\Analises\\Pycharm\\organizar\\26 - José Paulo Backes - 2019-06.pdf \\ C:/Dev/GitsLeo/Analises/Pycharm/contas/26 - José Paulo Backes/\n",
      "Copiado com sucesso!\n",
      "\n",
      "26 - José Pa \\ 26 - José Pa \\ C:\\Dev\\GitsLeo\\Analises\\Pycharm\\organizar\\26 - José Paulo Backes - 2019-07.pdf \\ C:/Dev/GitsLeo/Analises/Pycharm/contas/26 - José Paulo Backes/\n",
      "Copiado com sucesso!\n",
      "\n",
      "26 - José Pa \\ 26 - José Pa \\ C:\\Dev\\GitsLeo\\Analises\\Pycharm\\organizar\\26 - José Paulo Backes - 2019-08.pdf \\ C:/Dev/GitsLeo/Analises/Pycharm/contas/26 - José Paulo Backes/\n",
      "Copiado com sucesso!\n",
      "\n",
      "26 - José Pa \\ 26 - José Pa \\ C:\\Dev\\GitsLeo\\Analises\\Pycharm\\organizar\\26 - José Paulo Backes - 2019-09.pdf \\ C:/Dev/GitsLeo/Analises/Pycharm/contas/26 - José Paulo Backes/\n",
      "Copiado com sucesso!\n",
      "\n",
      "30 - Daniela \\ 30 - Daniela \\ C:\\Dev\\GitsLeo\\Analises\\Pycharm\\organizar\\30 - Daniela Donadel Massalai - 2019-03.pdf \\ C:/Dev/GitsLeo/Analises/Pycharm/contas/30 - Daniela Donadel Massalai/\n",
      "Copiado com sucesso!\n",
      "\n",
      "30 - Daniela \\ 30 - Daniela \\ C:\\Dev\\GitsLeo\\Analises\\Pycharm\\organizar\\30 - Daniela Donadel Massalai - 2019-04.pdf \\ C:/Dev/GitsLeo/Analises/Pycharm/contas/30 - Daniela Donadel Massalai/\n",
      "Copiado com sucesso!\n",
      "\n",
      "30 - Daniela \\ 30 - Daniela \\ C:\\Dev\\GitsLeo\\Analises\\Pycharm\\organizar\\30 - Daniela Donadel Massalai - 2019-05.pdf \\ C:/Dev/GitsLeo/Analises/Pycharm/contas/30 - Daniela Donadel Massalai/\n",
      "Copiado com sucesso!\n",
      "\n",
      "30 - Daniela \\ 30 - Daniela \\ C:\\Dev\\GitsLeo\\Analises\\Pycharm\\organizar\\30 - Daniela Donadel Massalai - 2019-06.pdf \\ C:/Dev/GitsLeo/Analises/Pycharm/contas/30 - Daniela Donadel Massalai/\n",
      "Copiado com sucesso!\n",
      "\n",
      "30 - Daniela \\ 30 - Daniela \\ C:\\Dev\\GitsLeo\\Analises\\Pycharm\\organizar\\30 - Daniela Donadel Massalai - 2019-07.pdf \\ C:/Dev/GitsLeo/Analises/Pycharm/contas/30 - Daniela Donadel Massalai/\n",
      "Copiado com sucesso!\n",
      "\n",
      "30 - Daniela \\ 30 - Daniela \\ C:\\Dev\\GitsLeo\\Analises\\Pycharm\\organizar\\30 - Daniela Donadel Massalai - 2019-08.pdf \\ C:/Dev/GitsLeo/Analises/Pycharm/contas/30 - Daniela Donadel Massalai/\n",
      "Copiado com sucesso!\n",
      "\n",
      "30 - Daniela \\ 30 - Daniela \\ C:\\Dev\\GitsLeo\\Analises\\Pycharm\\organizar\\30 - Daniela Donadel Massalai - 2019-09.pdf \\ C:/Dev/GitsLeo/Analises/Pycharm/contas/30 - Daniela Donadel Massalai/\n",
      "Copiado com sucesso!\n",
      "\n",
      "30 - Daniela \\ 30 - Daniela \\ C:\\Dev\\GitsLeo\\Analises\\Pycharm\\organizar\\30 - Daniela Donadel Massalai - 2019-10.pdf \\ C:/Dev/GitsLeo/Analises/Pycharm/contas/30 - Daniela Donadel Massalai/\n",
      "Copiado com sucesso!\n",
      "\n",
      "31 - Comerci \\ 31 - Comerci \\ C:\\Dev\\GitsLeo\\Analises\\Pycharm\\organizar\\31 - Comercio De Moto Peças Irmãos Guarani Ltda - 2019-03.pdf \\ C:/Dev/GitsLeo/Analises/Pycharm/contas/31 - Comercio De Moto Peças Irmãos Guarani Ltda/\n",
      "Copiado com sucesso!\n",
      "\n",
      "31 - Comerci \\ 31 - Comerci \\ C:\\Dev\\GitsLeo\\Analises\\Pycharm\\organizar\\31 - Comercio De Moto Peças Irmãos Guarani Ltda - 2019-04.pdf \\ C:/Dev/GitsLeo/Analises/Pycharm/contas/31 - Comercio De Moto Peças Irmãos Guarani Ltda/\n",
      "Copiado com sucesso!\n",
      "\n",
      "31 - Comerci \\ 31 - Comerci \\ C:\\Dev\\GitsLeo\\Analises\\Pycharm\\organizar\\31 - Comercio De Moto Peças Irmãos Guarani Ltda - 2019-05.pdf \\ C:/Dev/GitsLeo/Analises/Pycharm/contas/31 - Comercio De Moto Peças Irmãos Guarani Ltda/\n",
      "Copiado com sucesso!\n",
      "\n",
      "31 - Comerci \\ 31 - Comerci \\ C:\\Dev\\GitsLeo\\Analises\\Pycharm\\organizar\\31 - Comercio De Moto Peças Irmãos Guarani Ltda - 2019-06.pdf \\ C:/Dev/GitsLeo/Analises/Pycharm/contas/31 - Comercio De Moto Peças Irmãos Guarani Ltda/\n",
      "Copiado com sucesso!\n",
      "\n",
      "31 - Comerci \\ 31 - Comerci \\ C:\\Dev\\GitsLeo\\Analises\\Pycharm\\organizar\\31 - Comercio De Moto Peças Irmãos Guarani Ltda - 2019-07.pdf \\ C:/Dev/GitsLeo/Analises/Pycharm/contas/31 - Comercio De Moto Peças Irmãos Guarani Ltda/\n",
      "Copiado com sucesso!\n",
      "\n",
      "31 - Comerci \\ 31 - Comerci \\ C:\\Dev\\GitsLeo\\Analises\\Pycharm\\organizar\\31 - Comercio De Moto Peças Irmãos Guarani Ltda - 2019-08.pdf \\ C:/Dev/GitsLeo/Analises/Pycharm/contas/31 - Comercio De Moto Peças Irmãos Guarani Ltda/\n",
      "Copiado com sucesso!\n",
      "\n",
      "31 - Comerci \\ 31 - Comerci \\ C:\\Dev\\GitsLeo\\Analises\\Pycharm\\organizar\\31 - Comercio De Moto Peças Irmãos Guarani Ltda - 2019-09.pdf \\ C:/Dev/GitsLeo/Analises/Pycharm/contas/31 - Comercio De Moto Peças Irmãos Guarani Ltda/\n",
      "Copiado com sucesso!\n",
      "\n",
      "31 - Comerci \\ 31 - Comerci \\ C:\\Dev\\GitsLeo\\Analises\\Pycharm\\organizar\\31 - Comercio De Moto Peças Irmãos Guarani Ltda - 2019-10.pdf \\ C:/Dev/GitsLeo/Analises/Pycharm/contas/31 - Comercio De Moto Peças Irmãos Guarani Ltda/\n",
      "Copiado com sucesso!\n",
      "\n",
      "32 - Maurici \\ 32 - Maurici \\ C:\\Dev\\GitsLeo\\Analises\\Pycharm\\organizar\\32 - Mauricio Luis Lunardi - 2019-03.pdf \\ C:/Dev/GitsLeo/Analises/Pycharm/contas/32 - Mauricio Luis Lunardi/\n",
      "Copiado com sucesso!\n",
      "\n",
      "32 - Maurici \\ 32 - Maurici \\ C:\\Dev\\GitsLeo\\Analises\\Pycharm\\organizar\\32 - Mauricio Luis Lunardi - 2019-04.pdf \\ C:/Dev/GitsLeo/Analises/Pycharm/contas/32 - Mauricio Luis Lunardi/\n",
      "Copiado com sucesso!\n"
     ]
    },
    {
     "name": "stdout",
     "output_type": "stream",
     "text": [
      "\n",
      "32 - Maurici \\ 32 - Maurici \\ C:\\Dev\\GitsLeo\\Analises\\Pycharm\\organizar\\32 - Mauricio Luis Lunardi - 2019-05.pdf \\ C:/Dev/GitsLeo/Analises/Pycharm/contas/32 - Mauricio Luis Lunardi/\n",
      "Copiado com sucesso!\n",
      "\n",
      "32 - Maurici \\ 32 - Maurici \\ C:\\Dev\\GitsLeo\\Analises\\Pycharm\\organizar\\32 - Mauricio Luis Lunardi - 2019-06.pdf \\ C:/Dev/GitsLeo/Analises/Pycharm/contas/32 - Mauricio Luis Lunardi/\n",
      "Copiado com sucesso!\n",
      "\n",
      "32 - Maurici \\ 32 - Maurici \\ C:\\Dev\\GitsLeo\\Analises\\Pycharm\\organizar\\32 - Mauricio Luis Lunardi - 2019-07.pdf \\ C:/Dev/GitsLeo/Analises/Pycharm/contas/32 - Mauricio Luis Lunardi/\n",
      "Copiado com sucesso!\n",
      "\n",
      "32 - Maurici \\ 32 - Maurici \\ C:\\Dev\\GitsLeo\\Analises\\Pycharm\\organizar\\32 - Mauricio Luis Lunardi - 2019-08.pdf \\ C:/Dev/GitsLeo/Analises/Pycharm/contas/32 - Mauricio Luis Lunardi/\n",
      "Copiado com sucesso!\n",
      "\n",
      "32 - Maurici \\ 32 - Maurici \\ C:\\Dev\\GitsLeo\\Analises\\Pycharm\\organizar\\32 - Mauricio Luis Lunardi - 2019-09.pdf \\ C:/Dev/GitsLeo/Analises/Pycharm/contas/32 - Mauricio Luis Lunardi/\n",
      "Copiado com sucesso!\n",
      "\n",
      "32 - Maurici \\ 32 - Maurici \\ C:\\Dev\\GitsLeo\\Analises\\Pycharm\\organizar\\32 - Mauricio Luis Lunardi - 2019-10.pdf \\ C:/Dev/GitsLeo/Analises/Pycharm/contas/32 - Mauricio Luis Lunardi/\n",
      "Copiado com sucesso!\n",
      "\n",
      "33 - Rosa Ma \\ 33 - Rosa Ma \\ C:\\Dev\\GitsLeo\\Analises\\Pycharm\\organizar\\33 - Rosa Maria Restle Radunz - 2019-02.pdf \\ C:/Dev/GitsLeo/Analises/Pycharm/contas/33 - Rosa Maria Restle Radunz/\n",
      "Copiado com sucesso!\n",
      "\n",
      "33 - Rosa Ma \\ 33 - Rosa Ma \\ C:\\Dev\\GitsLeo\\Analises\\Pycharm\\organizar\\33 - Rosa Maria Restle Radunz - 2019-03.pdf \\ C:/Dev/GitsLeo/Analises/Pycharm/contas/33 - Rosa Maria Restle Radunz/\n",
      "Copiado com sucesso!\n",
      "\n",
      "33 - Rosa Ma \\ 33 - Rosa Ma \\ C:\\Dev\\GitsLeo\\Analises\\Pycharm\\organizar\\33 - Rosa Maria Restle Radunz - 2019-04.pdf \\ C:/Dev/GitsLeo/Analises/Pycharm/contas/33 - Rosa Maria Restle Radunz/\n",
      "Copiado com sucesso!\n",
      "\n",
      "33 - Rosa Ma \\ 33 - Rosa Ma \\ C:\\Dev\\GitsLeo\\Analises\\Pycharm\\organizar\\33 - Rosa Maria Restle Radunz - 2019-05.pdf \\ C:/Dev/GitsLeo/Analises/Pycharm/contas/33 - Rosa Maria Restle Radunz/\n",
      "Copiado com sucesso!\n",
      "\n",
      "33 - Rosa Ma \\ 33 - Rosa Ma \\ C:\\Dev\\GitsLeo\\Analises\\Pycharm\\organizar\\33 - Rosa Maria Restle Radunz - 2019-06 (ATUALIZADA).pdf \\ C:/Dev/GitsLeo/Analises/Pycharm/contas/33 - Rosa Maria Restle Radunz/\n",
      "Copiado com sucesso!\n",
      "\n",
      "33 - Rosa Ma \\ 33 - Rosa Ma \\ C:\\Dev\\GitsLeo\\Analises\\Pycharm\\organizar\\33 - Rosa Maria Restle Radunz - 2019-06.pdf \\ C:/Dev/GitsLeo/Analises/Pycharm/contas/33 - Rosa Maria Restle Radunz/\n",
      "Copiado com sucesso!\n",
      "\n",
      "33 - Rosa Ma \\ 33 - Rosa Ma \\ C:\\Dev\\GitsLeo\\Analises\\Pycharm\\organizar\\33 - Rosa Maria Restle Radunz - 2019-08.pdf \\ C:/Dev/GitsLeo/Analises/Pycharm/contas/33 - Rosa Maria Restle Radunz/\n",
      "Copiado com sucesso!\n",
      "\n",
      "33 - Rosa Ma \\ 33 - Rosa Ma \\ C:\\Dev\\GitsLeo\\Analises\\Pycharm\\organizar\\33 - Rosa Maria Restle Radunz - 2019-09.pdf \\ C:/Dev/GitsLeo/Analises/Pycharm/contas/33 - Rosa Maria Restle Radunz/\n",
      "Copiado com sucesso!\n",
      "\n",
      "33 - Rosa Ma \\ 33 - Rosa Ma \\ C:\\Dev\\GitsLeo\\Analises\\Pycharm\\organizar\\33 - Rosa Maria Restle Radunz - 2019-10.pdf \\ C:/Dev/GitsLeo/Analises/Pycharm/contas/33 - Rosa Maria Restle Radunz/\n",
      "Copiado com sucesso!\n",
      "\n",
      "34 - Ivo Ama \\ 34 - Ivo Ama \\ C:\\Dev\\GitsLeo\\Analises\\Pycharm\\organizar\\34 - Ivo Amaral De Oliveira - 2019-04.pdf \\ C:/Dev/GitsLeo/Analises/Pycharm/contas/34 - Ivo Amaral De Oliveira/\n",
      "Copiado com sucesso!\n",
      "\n",
      "34 - Ivo Ama \\ 34 - Ivo Ama \\ C:\\Dev\\GitsLeo\\Analises\\Pycharm\\organizar\\34 - Ivo Amaral De Oliveira - 2019-05.pdf \\ C:/Dev/GitsLeo/Analises/Pycharm/contas/34 - Ivo Amaral De Oliveira/\n",
      "Copiado com sucesso!\n",
      "\n",
      "34 - Ivo Ama \\ 34 - Ivo Ama \\ C:\\Dev\\GitsLeo\\Analises\\Pycharm\\organizar\\34 - Ivo Amaral De Oliveira - 2019-06.pdf \\ C:/Dev/GitsLeo/Analises/Pycharm/contas/34 - Ivo Amaral De Oliveira/\n",
      "Copiado com sucesso!\n",
      "\n",
      "34 - Ivo Ama \\ 34 - Ivo Ama \\ C:\\Dev\\GitsLeo\\Analises\\Pycharm\\organizar\\34 - Ivo Amaral De Oliveira - 2019-07.pdf \\ C:/Dev/GitsLeo/Analises/Pycharm/contas/34 - Ivo Amaral De Oliveira/\n",
      "Copiado com sucesso!\n",
      "\n",
      "34 - Ivo Ama \\ 34 - Ivo Ama \\ C:\\Dev\\GitsLeo\\Analises\\Pycharm\\organizar\\34 - Ivo Amaral De Oliveira - 2019-08.pdf \\ C:/Dev/GitsLeo/Analises/Pycharm/contas/34 - Ivo Amaral De Oliveira/\n",
      "Copiado com sucesso!\n",
      "\n",
      "34 - Ivo Ama \\ 34 - Ivo Ama \\ C:\\Dev\\GitsLeo\\Analises\\Pycharm\\organizar\\34 - Ivo Amaral De Oliveira - 2019-09.pdf \\ C:/Dev/GitsLeo/Analises/Pycharm/contas/34 - Ivo Amaral De Oliveira/\n",
      "Copiado com sucesso!\n",
      "\n",
      "34 - Ivo Ama \\ 34 - Ivo Ama \\ C:\\Dev\\GitsLeo\\Analises\\Pycharm\\organizar\\34 - Ivo Amaral De Oliveira - 2019-10.pdf \\ C:/Dev/GitsLeo/Analises/Pycharm/contas/34 - Ivo Amaral De Oliveira/\n",
      "Copiado com sucesso!\n",
      "\n",
      "35 - Silvio  \\ 35 - Silvio  \\ C:\\Dev\\GitsLeo\\Analises\\Pycharm\\organizar\\35 - Silvio Robert Lemos Avila - 2019-03.pdf \\ C:/Dev/GitsLeo/Analises/Pycharm/contas/35 - Silvio Robert Lemos Avila/\n",
      "Copiado com sucesso!\n",
      "\n",
      "35 - Silvio  \\ 35 - Silvio  \\ C:\\Dev\\GitsLeo\\Analises\\Pycharm\\organizar\\35 - Silvio Robert Lemos Avila - 2019-04.pdf \\ C:/Dev/GitsLeo/Analises/Pycharm/contas/35 - Silvio Robert Lemos Avila/\n",
      "Copiado com sucesso!\n",
      "\n",
      "35 - Silvio  \\ 35 - Silvio  \\ C:\\Dev\\GitsLeo\\Analises\\Pycharm\\organizar\\35 - Silvio Robert Lemos Avila - 2019-05.pdf \\ C:/Dev/GitsLeo/Analises/Pycharm/contas/35 - Silvio Robert Lemos Avila/\n",
      "Copiado com sucesso!\n",
      "\n",
      "35 - Silvio  \\ 35 - Silvio  \\ C:\\Dev\\GitsLeo\\Analises\\Pycharm\\organizar\\35 - Silvio Robert Lemos Avila - 2019-06.pdf \\ C:/Dev/GitsLeo/Analises/Pycharm/contas/35 - Silvio Robert Lemos Avila/\n",
      "Copiado com sucesso!\n",
      "\n",
      "35 - Silvio  \\ 35 - Silvio  \\ C:\\Dev\\GitsLeo\\Analises\\Pycharm\\organizar\\35 - Silvio Robert Lemos Avila - 2019-07.pdf \\ C:/Dev/GitsLeo/Analises/Pycharm/contas/35 - Silvio Robert Lemos Avila/\n",
      "Copiado com sucesso!\n",
      "\n",
      "35 - Silvio  \\ 35 - Silvio  \\ C:\\Dev\\GitsLeo\\Analises\\Pycharm\\organizar\\35 - Silvio Robert Lemos Avila - 2019-08.pdf \\ C:/Dev/GitsLeo/Analises/Pycharm/contas/35 - Silvio Robert Lemos Avila/\n",
      "Copiado com sucesso!\n",
      "\n",
      "35 - Silvio  \\ 35 - Silvio  \\ C:\\Dev\\GitsLeo\\Analises\\Pycharm\\organizar\\35 - Silvio Robert Lemos Avila - 2019-09.pdf \\ C:/Dev/GitsLeo/Analises/Pycharm/contas/35 - Silvio Robert Lemos Avila/\n",
      "Copiado com sucesso!\n",
      "\n",
      "35 - Silvio  \\ 35 - Silvio  \\ C:\\Dev\\GitsLeo\\Analises\\Pycharm\\organizar\\35 - Silvio Robert Lemos Avila - 2019-10.pdf \\ C:/Dev/GitsLeo/Analises/Pycharm/contas/35 - Silvio Robert Lemos Avila/\n",
      "Copiado com sucesso!\n",
      "\n",
      "42 - Aabb -  \\ 42 - Aabb \\ C:\\Dev\\GitsLeo\\Analises\\Pycharm\\organizar\\42 - Aabb - UC 01 - 2019-04.pdf \\ C:/Dev/GitsLeo/Analises/Pycharm/contas/42 - Aabb/\n",
      "Copiado com sucesso!\n",
      "\n",
      "42 - Aabb -  \\ 42 - Aabb \\ C:\\Dev\\GitsLeo\\Analises\\Pycharm\\organizar\\42 - Aabb - UC 01 - 2019-05.pdf \\ C:/Dev/GitsLeo/Analises/Pycharm/contas/42 - Aabb/\n",
      "Copiado com sucesso!\n",
      "\n",
      "42 - Aabb -  \\ 42 - Aabb \\ C:\\Dev\\GitsLeo\\Analises\\Pycharm\\organizar\\42 - Aabb - UC 01 - 2019-06.pdf \\ C:/Dev/GitsLeo/Analises/Pycharm/contas/42 - Aabb/\n",
      "Copiado com sucesso!\n",
      "\n",
      "42 - Aabb -  \\ 42 - Aabb \\ C:\\Dev\\GitsLeo\\Analises\\Pycharm\\organizar\\42 - Aabb - UC 01 - 2019-07.pdf \\ C:/Dev/GitsLeo/Analises/Pycharm/contas/42 - Aabb/\n",
      "Copiado com sucesso!\n",
      "\n",
      "42 - Aabb -  \\ 42 - Aabb \\ C:\\Dev\\GitsLeo\\Analises\\Pycharm\\organizar\\42 - Aabb - UC 01 - 2019-08.pdf \\ C:/Dev/GitsLeo/Analises/Pycharm/contas/42 - Aabb/\n",
      "Copiado com sucesso!\n",
      "\n",
      "42 - Aabb -  \\ 42 - Aabb \\ C:\\Dev\\GitsLeo\\Analises\\Pycharm\\organizar\\42 - Aabb - UC 01 - 2019-09.pdf \\ C:/Dev/GitsLeo/Analises/Pycharm/contas/42 - Aabb/\n",
      "Copiado com sucesso!\n",
      "\n",
      "42 - Aabb -  \\ 42 - Aabb \\ C:\\Dev\\GitsLeo\\Analises\\Pycharm\\organizar\\42 - Aabb - UC 01 - 2019-10.pdf \\ C:/Dev/GitsLeo/Analises/Pycharm/contas/42 - Aabb/\n",
      "Copiado com sucesso!\n",
      "\n",
      "42 - Aabb -  \\ 42 - Aabb \\ C:\\Dev\\GitsLeo\\Analises\\Pycharm\\organizar\\42 - Aabb - UC 02 - 2019-04.pdf \\ C:/Dev/GitsLeo/Analises/Pycharm/contas/42 - Aabb/\n",
      "Copiado com sucesso!\n",
      "\n",
      "42 - Aabb -  \\ 42 - Aabb \\ C:\\Dev\\GitsLeo\\Analises\\Pycharm\\organizar\\42 - Aabb - UC 02 - 2019-05(2).pdf \\ C:/Dev/GitsLeo/Analises/Pycharm/contas/42 - Aabb/\n",
      "Copiado com sucesso!\n",
      "\n",
      "42 - Aabb -  \\ 42 - Aabb \\ C:\\Dev\\GitsLeo\\Analises\\Pycharm\\organizar\\42 - Aabb - UC 02 - 2019-05.pdf \\ C:/Dev/GitsLeo/Analises/Pycharm/contas/42 - Aabb/\n",
      "Copiado com sucesso!\n",
      "\n",
      "42 - Aabb -  \\ 42 - Aabb \\ C:\\Dev\\GitsLeo\\Analises\\Pycharm\\organizar\\42 - Aabb - UC 02 - 2019-06.pdf \\ C:/Dev/GitsLeo/Analises/Pycharm/contas/42 - Aabb/\n",
      "Copiado com sucesso!\n",
      "\n",
      "42 - Aabb -  \\ 42 - Aabb \\ C:\\Dev\\GitsLeo\\Analises\\Pycharm\\organizar\\42 - Aabb - UC 02 - 2019-07.pdf \\ C:/Dev/GitsLeo/Analises/Pycharm/contas/42 - Aabb/\n",
      "Copiado com sucesso!\n",
      "\n",
      "42 - Aabb -  \\ 42 - Aabb \\ C:\\Dev\\GitsLeo\\Analises\\Pycharm\\organizar\\42 - Aabb - UC 02 - 2019-08.pdf \\ C:/Dev/GitsLeo/Analises/Pycharm/contas/42 - Aabb/\n",
      "Copiado com sucesso!\n",
      "\n",
      "42 - Aabb -  \\ 42 - Aabb \\ C:\\Dev\\GitsLeo\\Analises\\Pycharm\\organizar\\42 - Aabb - UC 02 - 2019-09.pdf \\ C:/Dev/GitsLeo/Analises/Pycharm/contas/42 - Aabb/\n",
      "Copiado com sucesso!\n",
      "\n",
      "42 - Aabb -  \\ 42 - Aabb \\ C:\\Dev\\GitsLeo\\Analises\\Pycharm\\organizar\\42 - Aabb - UC 02 - 2019-10.pdf \\ C:/Dev/GitsLeo/Analises/Pycharm/contas/42 - Aabb/\n",
      "Copiado com sucesso!\n",
      "\n",
      "44 - Silvio  \\ 44 - Silvio  \\ C:\\Dev\\GitsLeo\\Analises\\Pycharm\\organizar\\44 - Silvio Robert Lemos Avila Me - 2019-06.pdf \\ C:/Dev/GitsLeo/Analises/Pycharm/contas/44 - Silvio Robert Lemos Avila Me/\n",
      "Copiado com sucesso!\n",
      "\n",
      "44 - Silvio  \\ 44 - Silvio  \\ C:\\Dev\\GitsLeo\\Analises\\Pycharm\\organizar\\44 - Silvio Robert Lemos Avila Me - 2019-07.pdf \\ C:/Dev/GitsLeo/Analises/Pycharm/contas/44 - Silvio Robert Lemos Avila Me/\n",
      "Copiado com sucesso!\n",
      "\n",
      "44 - Silvio  \\ 44 - Silvio  \\ C:\\Dev\\GitsLeo\\Analises\\Pycharm\\organizar\\44 - Silvio Robert Lemos Avila Me - 2019-08.pdf \\ C:/Dev/GitsLeo/Analises/Pycharm/contas/44 - Silvio Robert Lemos Avila Me/\n",
      "Copiado com sucesso!\n",
      "\n",
      "44 - Silvio  \\ 44 - Silvio  \\ C:\\Dev\\GitsLeo\\Analises\\Pycharm\\organizar\\44 - Silvio Robert Lemos Avila Me - 2019-09.pdf \\ C:/Dev/GitsLeo/Analises/Pycharm/contas/44 - Silvio Robert Lemos Avila Me/\n",
      "Copiado com sucesso!\n",
      "\n",
      "44 - Silvio  \\ 44 - Silvio  \\ C:\\Dev\\GitsLeo\\Analises\\Pycharm\\organizar\\44 - Silvio Robert Lemos Avila Me - 2019-10.pdf \\ C:/Dev/GitsLeo/Analises/Pycharm/contas/44 - Silvio Robert Lemos Avila Me/\n",
      "Copiado com sucesso!\n",
      "\n"
     ]
    },
    {
     "name": "stdout",
     "output_type": "stream",
     "text": [
      "45 - Carmelo \\ 45 - Carmelo \\ C:\\Dev\\GitsLeo\\Analises\\Pycharm\\organizar\\45 - Carmelo - 2019-06.pdf \\ C:/Dev/GitsLeo/Analises/Pycharm/contas/45 - Carmelo/\n",
      "Copiado com sucesso!\n",
      "\n",
      "45 - Carmelo \\ 45 - Carmelo \\ C:\\Dev\\GitsLeo\\Analises\\Pycharm\\organizar\\45 - Carmelo - 2019-07.pdf \\ C:/Dev/GitsLeo/Analises/Pycharm/contas/45 - Carmelo/\n",
      "Copiado com sucesso!\n",
      "\n",
      "45 - Carmelo \\ 45 - Carmelo \\ C:\\Dev\\GitsLeo\\Analises\\Pycharm\\organizar\\45 - Carmelo - 2019-08.pdf \\ C:/Dev/GitsLeo/Analises/Pycharm/contas/45 - Carmelo/\n",
      "Copiado com sucesso!\n",
      "\n",
      "45 - Carmelo \\ 45 - Carmelo \\ C:\\Dev\\GitsLeo\\Analises\\Pycharm\\organizar\\45 - Carmelo - 2019-09.pdf \\ C:/Dev/GitsLeo/Analises/Pycharm/contas/45 - Carmelo/\n",
      "Copiado com sucesso!\n",
      "\n",
      "45 - Carmelo \\ 45 - Carmelo \\ C:\\Dev\\GitsLeo\\Analises\\Pycharm\\organizar\\45 - Carmelo - 2019-10.pdf \\ C:/Dev/GitsLeo/Analises/Pycharm/contas/45 - Carmelo/\n",
      "Copiado com sucesso!\n",
      "\n",
      "46 - Antonio \\ 46 - Antonio \\ C:\\Dev\\GitsLeo\\Analises\\Pycharm\\organizar\\46 - Antonio Dal Forno - 2019-06.pdf \\ C:/Dev/GitsLeo/Analises/Pycharm/contas/46 - Antonio Dal Forno/\n",
      "Copiado com sucesso!\n",
      "\n",
      "46 - Antonio \\ 46 - Antonio \\ C:\\Dev\\GitsLeo\\Analises\\Pycharm\\organizar\\46 - Antonio Dal Forno - 2019-07.pdf \\ C:/Dev/GitsLeo/Analises/Pycharm/contas/46 - Antonio Dal Forno/\n",
      "Copiado com sucesso!\n",
      "\n",
      "46 - Antonio \\ 46 - Antonio \\ C:\\Dev\\GitsLeo\\Analises\\Pycharm\\organizar\\46 - Antonio Dal Forno - 2019-08.pdf \\ C:/Dev/GitsLeo/Analises/Pycharm/contas/46 - Antonio Dal Forno/\n",
      "Copiado com sucesso!\n",
      "\n",
      "46 - Antonio \\ 46 - Antonio \\ C:\\Dev\\GitsLeo\\Analises\\Pycharm\\organizar\\46 - Antonio Dal Forno - 2019-09.pdf \\ C:/Dev/GitsLeo/Analises/Pycharm/contas/46 - Antonio Dal Forno/\n",
      "Copiado com sucesso!\n",
      "\n",
      "46 - Antonio \\ 46 - Antonio \\ C:\\Dev\\GitsLeo\\Analises\\Pycharm\\organizar\\46 - Antonio Dal Forno - 2019-10.pdf \\ C:/Dev/GitsLeo/Analises/Pycharm/contas/46 - Antonio Dal Forno/\n",
      "Copiado com sucesso!\n",
      "\n",
      "47 - Marisan \\ 47 - Marisan \\ C:\\Dev\\GitsLeo\\Analises\\Pycharm\\organizar\\47 - Marisane Paulus - 2019-08.pdf \\ C:/Dev/GitsLeo/Analises/Pycharm/contas/47 - Marisane Paulus/\n",
      "Copiado com sucesso!\n",
      "\n",
      "47 - Marisan \\ 47 - Marisan \\ C:\\Dev\\GitsLeo\\Analises\\Pycharm\\organizar\\47 - Marisane Paulus - 2019-09.pdf \\ C:/Dev/GitsLeo/Analises/Pycharm/contas/47 - Marisane Paulus/\n",
      "Copiado com sucesso!\n",
      "\n",
      "47 - Marisan \\ 47 - Marisan \\ C:\\Dev\\GitsLeo\\Analises\\Pycharm\\organizar\\47 - Marisane Paulus - 2019-10.pdf \\ C:/Dev/GitsLeo/Analises/Pycharm/contas/47 - Marisane Paulus/\n",
      "Copiado com sucesso!\n",
      "\n",
      "47 - Marisan \\ 47 - Marisan \\ C:\\Dev\\GitsLeo\\Analises\\Pycharm\\organizar\\47 - Marisane Paulus.pdf \\ C:/Dev/GitsLeo/Analises/Pycharm/contas/47 - Marisane Paulus/\n",
      "Copiado com sucesso!\n",
      "\n",
      "48 - Segatto \\ 48 - Segatto \\ C:\\Dev\\GitsLeo\\Analises\\Pycharm\\organizar\\48 - Segatto Ceretta Ltda - UC 1 - 2019-05 - VAI MANTER.pdf \\ C:/Dev/GitsLeo/Analises/Pycharm/contas/48 - Segatto Ceretta Ltda/\n",
      "Copiado com sucesso!\n",
      "\n",
      "48 - Segatto \\ 48 - Segatto \\ C:\\Dev\\GitsLeo\\Analises\\Pycharm\\organizar\\48 - Segatto Ceretta Ltda - UC 1 - 2019-06.pdf \\ C:/Dev/GitsLeo/Analises/Pycharm/contas/48 - Segatto Ceretta Ltda/\n",
      "Copiado com sucesso!\n",
      "\n",
      "48 - Segatto \\ 48 - Segatto \\ C:\\Dev\\GitsLeo\\Analises\\Pycharm\\organizar\\48 - Segatto Ceretta Ltda - UC 1 - 2019-07.pdf \\ C:/Dev/GitsLeo/Analises/Pycharm/contas/48 - Segatto Ceretta Ltda/\n",
      "Copiado com sucesso!\n",
      "\n",
      "48 - Segatto \\ 48 - Segatto \\ C:\\Dev\\GitsLeo\\Analises\\Pycharm\\organizar\\48 - Segatto Ceretta Ltda - UC 1 - 2019-08.pdf \\ C:/Dev/GitsLeo/Analises/Pycharm/contas/48 - Segatto Ceretta Ltda/\n",
      "Copiado com sucesso!\n",
      "\n",
      "48 - Segatto \\ 48 - Segatto \\ C:\\Dev\\GitsLeo\\Analises\\Pycharm\\organizar\\48 - Segatto Ceretta Ltda - UC 1 - 2019-09.pdf \\ C:/Dev/GitsLeo/Analises/Pycharm/contas/48 - Segatto Ceretta Ltda/\n",
      "Copiado com sucesso!\n",
      "\n",
      "48 - Segatto \\ 48 - Segatto \\ C:\\Dev\\GitsLeo\\Analises\\Pycharm\\organizar\\48 - Segatto Ceretta Ltda - UC 1 - 2019-10.pdf \\ C:/Dev/GitsLeo/Analises/Pycharm/contas/48 - Segatto Ceretta Ltda/\n",
      "Copiado com sucesso!\n",
      "\n",
      "48 - Segatto \\ 48 - Segatto \\ C:\\Dev\\GitsLeo\\Analises\\Pycharm\\organizar\\48 - Segatto Ceretta Ltda - UC 2 - 2019-05 - DESLIGADA.pdf \\ C:/Dev/GitsLeo/Analises/Pycharm/contas/48 - Segatto Ceretta Ltda/\n",
      "Copiado com sucesso!\n",
      "\n",
      "48 - Segatto \\ 48 - Segatto \\ C:\\Dev\\GitsLeo\\Analises\\Pycharm\\organizar\\48 - Segatto Ceretta Ltda - UC 2 - 2019-07.pdf \\ C:/Dev/GitsLeo/Analises/Pycharm/contas/48 - Segatto Ceretta Ltda/\n",
      "Copiado com sucesso!\n",
      "\n",
      "48 - Segatto \\ 48 - Segatto \\ C:\\Dev\\GitsLeo\\Analises\\Pycharm\\organizar\\48 - Segatto Ceretta Ltda - UC 2 - 2019-08.pdf \\ C:/Dev/GitsLeo/Analises/Pycharm/contas/48 - Segatto Ceretta Ltda/\n",
      "Copiado com sucesso!\n",
      "\n",
      "49 - Apae -  \\ 49 - Apae \\ C:\\Dev\\GitsLeo\\Analises\\Pycharm\\organizar\\49 - Apae - UC 01 - 2019 - 06.pdf \\ C:/Dev/GitsLeo/Analises/Pycharm/contas/49 - Apae/\n",
      "Copiado com sucesso!\n",
      "\n",
      "49 - Apae -  \\ 49 - Apae \\ C:\\Dev\\GitsLeo\\Analises\\Pycharm\\organizar\\49 - Apae - UC 01 - 2019 - 07.pdf \\ C:/Dev/GitsLeo/Analises/Pycharm/contas/49 - Apae/\n",
      "Copiado com sucesso!\n",
      "\n",
      "49 - Apae -  \\ 49 - Apae \\ C:\\Dev\\GitsLeo\\Analises\\Pycharm\\organizar\\49 - Apae - UC 01 - 2019 - 08.pdf \\ C:/Dev/GitsLeo/Analises/Pycharm/contas/49 - Apae/\n",
      "Copiado com sucesso!\n",
      "\n",
      "49 - Apae -  \\ 49 - Apae \\ C:\\Dev\\GitsLeo\\Analises\\Pycharm\\organizar\\49 - Apae - UC 01 - 2019 - 09.pdf \\ C:/Dev/GitsLeo/Analises/Pycharm/contas/49 - Apae/\n",
      "Copiado com sucesso!\n",
      "\n",
      "49 - Apae -  \\ 49 - Apae \\ C:\\Dev\\GitsLeo\\Analises\\Pycharm\\organizar\\49 - Apae - UC 01 - 2019 - 10.pdf \\ C:/Dev/GitsLeo/Analises/Pycharm/contas/49 - Apae/\n",
      "Copiado com sucesso!\n",
      "\n",
      "49 - Apae -  \\ 49 - Apae \\ C:\\Dev\\GitsLeo\\Analises\\Pycharm\\organizar\\49 - Apae - UC 02 - 2019 - 06.pdf \\ C:/Dev/GitsLeo/Analises/Pycharm/contas/49 - Apae/\n",
      "Copiado com sucesso!\n",
      "\n",
      "49 - Apae -  \\ 49 - Apae \\ C:\\Dev\\GitsLeo\\Analises\\Pycharm\\organizar\\49 - Apae - UC 02 - 2019 - 07.pdf \\ C:/Dev/GitsLeo/Analises/Pycharm/contas/49 - Apae/\n",
      "Copiado com sucesso!\n",
      "\n",
      "49 - Apae -  \\ 49 - Apae \\ C:\\Dev\\GitsLeo\\Analises\\Pycharm\\organizar\\49 - Apae - UC 02 - 2019 - 08.pdf \\ C:/Dev/GitsLeo/Analises/Pycharm/contas/49 - Apae/\n",
      "Copiado com sucesso!\n",
      "\n",
      "49 - Apae -  \\ 49 - Apae \\ C:\\Dev\\GitsLeo\\Analises\\Pycharm\\organizar\\49 - Apae - UC 02 - 2019 - 09.pdf \\ C:/Dev/GitsLeo/Analises/Pycharm/contas/49 - Apae/\n",
      "Copiado com sucesso!\n",
      "\n",
      "49 - Apae -  \\ 49 - Apae \\ C:\\Dev\\GitsLeo\\Analises\\Pycharm\\organizar\\49 - Apae - UC 02 - 2019 - 10.pdf \\ C:/Dev/GitsLeo/Analises/Pycharm/contas/49 - Apae/\n",
      "Copiado com sucesso!\n",
      "\n",
      "50 - Cássio  \\ 50 - Cássio  \\ C:\\Dev\\GitsLeo\\Analises\\Pycharm\\organizar\\50 - Cássio Burin - 2018-12.pdf \\ C:/Dev/GitsLeo/Analises/Pycharm/contas/50 - Cássio Burin/\n",
      "Copiado com sucesso!\n",
      "\n",
      "50 - Cássio  \\ 50 - Cássio  \\ C:\\Dev\\GitsLeo\\Analises\\Pycharm\\organizar\\50 - Cássio Burin - 2019-01.pdf \\ C:/Dev/GitsLeo/Analises/Pycharm/contas/50 - Cássio Burin/\n",
      "Copiado com sucesso!\n",
      "\n",
      "50 - Cássio  \\ 50 - Cássio  \\ C:\\Dev\\GitsLeo\\Analises\\Pycharm\\organizar\\50 - Cássio Burin - 2019-02.pdf \\ C:/Dev/GitsLeo/Analises/Pycharm/contas/50 - Cássio Burin/\n",
      "Copiado com sucesso!\n",
      "\n",
      "50 - Cássio  \\ 50 - Cássio  \\ C:\\Dev\\GitsLeo\\Analises\\Pycharm\\organizar\\50 - Cássio Burin - 2019-03.pdf \\ C:/Dev/GitsLeo/Analises/Pycharm/contas/50 - Cássio Burin/\n",
      "Copiado com sucesso!\n",
      "\n",
      "50 - Cássio  \\ 50 - Cássio  \\ C:\\Dev\\GitsLeo\\Analises\\Pycharm\\organizar\\50 - Cássio Burin - 2019-04.pdf \\ C:/Dev/GitsLeo/Analises/Pycharm/contas/50 - Cássio Burin/\n",
      "Copiado com sucesso!\n",
      "\n",
      "50 - Cássio  \\ 50 - Cássio  \\ C:\\Dev\\GitsLeo\\Analises\\Pycharm\\organizar\\50 - Cássio Burin - 2019-05.pdf \\ C:/Dev/GitsLeo/Analises/Pycharm/contas/50 - Cássio Burin/\n",
      "Copiado com sucesso!\n",
      "\n",
      "50 - Cássio  \\ 50 - Cássio  \\ C:\\Dev\\GitsLeo\\Analises\\Pycharm\\organizar\\50 - Cássio Burin - 2019-06.pdf \\ C:/Dev/GitsLeo/Analises/Pycharm/contas/50 - Cássio Burin/\n",
      "Copiado com sucesso!\n",
      "\n",
      "50 - Cássio  \\ 50 - Cássio  \\ C:\\Dev\\GitsLeo\\Analises\\Pycharm\\organizar\\50 - Cássio Burin - 2019-07.pdf \\ C:/Dev/GitsLeo/Analises/Pycharm/contas/50 - Cássio Burin/\n",
      "Copiado com sucesso!\n",
      "\n",
      "50 - Cássio  \\ 50 - Cássio  \\ C:\\Dev\\GitsLeo\\Analises\\Pycharm\\organizar\\50 - Cássio Burin - 2019-08.pdf \\ C:/Dev/GitsLeo/Analises/Pycharm/contas/50 - Cássio Burin/\n",
      "Copiado com sucesso!\n",
      "\n",
      "50 - Cássio  \\ 50 - Cássio  \\ C:\\Dev\\GitsLeo\\Analises\\Pycharm\\organizar\\50 - Cássio Burin - 2019-09.pdf \\ C:/Dev/GitsLeo/Analises/Pycharm/contas/50 - Cássio Burin/\n",
      "Copiado com sucesso!\n",
      "\n",
      "51 - Patrick \\ 51 - Patrick \\ C:\\Dev\\GitsLeo\\Analises\\Pycharm\\organizar\\51 - Patrick Kristoschek Da Silva - UC 01 -  2019-08.pdf \\ C:/Dev/GitsLeo/Analises/Pycharm/contas/51 - Patrick Kristoschek Da Silva/\n",
      "Copiado com sucesso!\n",
      "\n",
      "51 - Patrick \\ 51 - Patrick \\ C:\\Dev\\GitsLeo\\Analises\\Pycharm\\organizar\\51 - Patrick Kristoschek Da Silva - UC 01 -  2019-09.pdf \\ C:/Dev/GitsLeo/Analises/Pycharm/contas/51 - Patrick Kristoschek Da Silva/\n",
      "Copiado com sucesso!\n",
      "\n",
      "51 - Patrick \\ 51 - Patrick \\ C:\\Dev\\GitsLeo\\Analises\\Pycharm\\organizar\\51 - Patrick Kristoschek Da Silva - UC 02 -  2019-08.pdf \\ C:/Dev/GitsLeo/Analises/Pycharm/contas/51 - Patrick Kristoschek Da Silva/\n",
      "Copiado com sucesso!\n",
      "\n",
      "51 - Patrick \\ 51 - Patrick \\ C:\\Dev\\GitsLeo\\Analises\\Pycharm\\organizar\\51 - Patrick Kristoschek Da Silva - UC 02 -  2019-09.pdf \\ C:/Dev/GitsLeo/Analises/Pycharm/contas/51 - Patrick Kristoschek Da Silva/\n",
      "Copiado com sucesso!\n",
      "\n",
      "51 - Patrick \\ 51 - Patrick \\ C:\\Dev\\GitsLeo\\Analises\\Pycharm\\organizar\\51 - Patrick Kristoschek Da Silva - UC 02 -  2019-10.pdf \\ C:/Dev/GitsLeo/Analises/Pycharm/contas/51 - Patrick Kristoschek Da Silva/\n",
      "Copiado com sucesso!\n",
      "\n",
      "52 - Silvio  \\ 52 - Silvio  \\ C:\\Dev\\GitsLeo\\Analises\\Pycharm\\organizar\\52 - Silvio Robert Ávila - (Valmir) - 2019-08.pdf \\ C:/Dev/GitsLeo/Analises/Pycharm/contas/52 - Silvio Robert Ávila - (Valmir)/\n",
      "Copiado com sucesso!\n",
      "\n",
      "52 - Silvio  \\ 52 - Silvio  \\ C:\\Dev\\GitsLeo\\Analises\\Pycharm\\organizar\\52 - Silvio Robert Ávila - (Valmir) - 2019-09.pdf \\ C:/Dev/GitsLeo/Analises/Pycharm/contas/52 - Silvio Robert Ávila - (Valmir)/\n",
      "Copiado com sucesso!\n"
     ]
    },
    {
     "name": "stdout",
     "output_type": "stream",
     "text": [
      "\n",
      "52 - Silvio  \\ 52 - Silvio  \\ C:\\Dev\\GitsLeo\\Analises\\Pycharm\\organizar\\52 - Silvio Robert Ávila - (Valmir) - 2019-10.pdf \\ C:/Dev/GitsLeo/Analises/Pycharm/contas/52 - Silvio Robert Ávila - (Valmir)/\n",
      "Copiado com sucesso!\n",
      "\n",
      "53 - Zederso \\ 53 - Zederso \\ C:\\Dev\\GitsLeo\\Analises\\Pycharm\\organizar\\53 - Zederson Jose Della Flora - 2019-08.pdf \\ C:/Dev/GitsLeo/Analises/Pycharm/contas/53 - Zederson Jose Della Flora/\n",
      "Copiado com sucesso!\n",
      "\n",
      "53 - Zederso \\ 53 - Zederso \\ C:\\Dev\\GitsLeo\\Analises\\Pycharm\\organizar\\53 - Zederson Jose Della Flora - 2019-09.pdf \\ C:/Dev/GitsLeo/Analises/Pycharm/contas/53 - Zederson Jose Della Flora/\n",
      "Copiado com sucesso!\n",
      "\n",
      "54 - Carlos  \\ 54 - Carlos  \\ C:\\Dev\\GitsLeo\\Analises\\Pycharm\\organizar\\54 - Carlos Walmir Larsão Rolim UC 1 - 2019-09.pdf \\ C:/Dev/GitsLeo/Analises/Pycharm/contas/54 - Carlos Walmir Larsão Rolim/\n",
      "Copiado com sucesso!\n",
      "\n",
      "54 - Carlos  \\ 54 - Carlos  \\ C:\\Dev\\GitsLeo\\Analises\\Pycharm\\organizar\\54 - Carlos Walmir Larsão Rolim UC 1 - 2019-10.pdf \\ C:/Dev/GitsLeo/Analises/Pycharm/contas/54 - Carlos Walmir Larsão Rolim/\n",
      "Copiado com sucesso!\n",
      "\n",
      "55 - Danieli \\ 55 - Danieli \\ C:\\Dev\\GitsLeo\\Analises\\Pycharm\\organizar\\55 - Danieli Missio - 2019-10.pdf \\ C:/Dev/GitsLeo/Analises/Pycharm/contas/55 - Danieli Missio/\n",
      "Copiado com sucesso!\n",
      "\n"
     ]
    }
   ],
   "source": [
    "for lista in diretorios:\n",
    "    for i in files2[0]:\n",
    "        for j in files2[1]:\n",
    "            jn = j.split('\\\\')\n",
    "            if i == jn[6] and lista[:9:] == i[:9:]:\n",
    "                ondeVem = (jn[0]+'\\\\'+jn[1]+'\\\\'+jn[2]+'\\\\'+jn[3]+'\\\\'+jn[4]+'\\\\'+jn[5]+'\\\\'+jn[6])\n",
    "                destino = ('C:/Dev/GitsLeo/Analises/Pycharm/contas/'+lista+'/')\n",
    "                print(i[:12:]+' \\ '+lista[:12:]+' \\ '+ondeVem+' \\ '+ destino)\n",
    "                shutil.move(ondeVem, destino)\n",
    "                print('Copiado com sucesso!\\n')"
   ]
  },
  {
   "cell_type": "code",
   "execution_count": 8,
   "metadata": {
    "jupyter": {
     "outputs_hidden": false
    },
    "pycharm": {
     "is_executing": false,
     "name": "#%%\n"
    }
   },
   "outputs": [
    {
     "data": {
      "text/plain": "'D:\\\\Dev\\\\Gits_leo\\\\Analises\\\\Pycharm\\\\organizar\\\\01 - Marlon Colovini\\\\01 - Marlon - UC 01 - 2018-02.pdf'"
     },
     "metadata": {},
     "output_type": "execute_result",
     "execution_count": 8
    }
   ],
   "source": [
    "files3 = files_path1('./organizar/')\n",
    "files3[1][0]"
   ]
  },
  {
   "cell_type": "code",
   "execution_count": 13,
   "metadata": {
    "jupyter": {
     "outputs_hidden": false
    },
    "pycharm": {
     "name": "#%%\n",
     "is_executing": false
    }
   },
   "outputs": [],
   "source": [
    "for fil in files3[0]:\n",
    "    for fel in files3[1]:\n",
    "        jn = fel.split('\\\\')\n",
    "        if fil == jn[6] and lista[:9:] == fil[:9:]:\n",
    "            print(i+' / '+ jn[6] + ' / ' + lista)"
   ]
  },
  {
   "cell_type": "code",
   "execution_count": 8,
   "outputs": [
    {
     "name": "stdout",
     "text": [
      "10-2019\n"
     ],
     "output_type": "stream"
    }
   ],
   "source": [
    "data_atual = date.today()\n",
    "data = '{}-{}'.format(data_atual.month-1,data_atual.year)\n",
    "print(data)"
   ],
   "metadata": {
    "collapsed": false,
    "pycharm": {
     "name": "#%%\n",
     "is_executing": false
    }
   }
  },
  {
   "cell_type": "code",
   "execution_count": 35,
   "outputs": [
    {
     "name": "stdout",
     "text": [
      "Collecting package metadata (current_repodata.json): ...working... done\nSolving environment: ...working... done\n\n# All requested packages already installed.\n\n\nD:\\Dev\\Gits_leo\\Analises\\Pycharm>set \"JAVA_HOME=\"  \n\nD:\\Dev\\Gits_leo\\Analises\\Pycharm>set \"JAVA_HOME_CONDA_BACKUP=\"  \n\nD:\\Dev\\Gits_leo\\Analises\\Pycharm>set \"JAVA_HOME=D:\\ProgramData\\Anaconda3\\envs\\pyleo\\Library\"  \n"
     ],
     "output_type": "stream"
    }
   ],
   "source": [
    "!conda install PyPDF2\n"
   ],
   "metadata": {
    "collapsed": false,
    "pycharm": {
     "name": "#%%\n",
     "is_executing": false
    }
   }
  },
  {
   "cell_type": "code",
   "execution_count": 55,
   "outputs": [
    {
     "traceback": [
      "\u001b[1;31m---------------------------------------------------------------------------\u001b[0m",
      "\u001b[1;31mImportError\u001b[0m                               Traceback (most recent call last)",
      "\u001b[1;32m<ipython-input-55-74a8a0092cd1>\u001b[0m in \u001b[0;36m<module>\u001b[1;34m\u001b[0m\n\u001b[0;32m      1\u001b[0m \u001b[1;32mfrom\u001b[0m \u001b[0mpdfminer\u001b[0m\u001b[1;33m.\u001b[0m\u001b[0mpdfparser\u001b[0m \u001b[1;32mimport\u001b[0m \u001b[0mPDFParser\u001b[0m\u001b[1;33m\u001b[0m\u001b[1;33m\u001b[0m\u001b[0m\n\u001b[1;32m----> 2\u001b[1;33m \u001b[1;32mfrom\u001b[0m \u001b[0mpdfminer\u001b[0m\u001b[1;33m.\u001b[0m\u001b[0mpdfdocument\u001b[0m \u001b[1;32mimport\u001b[0m \u001b[0mPDFDocument\u001b[0m\u001b[1;33m\u001b[0m\u001b[1;33m\u001b[0m\u001b[0m\n\u001b[0m\u001b[0;32m      3\u001b[0m \u001b[1;32mfrom\u001b[0m \u001b[0mpdfminer\u001b[0m\u001b[1;33m.\u001b[0m\u001b[0mpdfpage\u001b[0m \u001b[1;32mimport\u001b[0m \u001b[0mPDFPage\u001b[0m\u001b[1;33m\u001b[0m\u001b[1;33m\u001b[0m\u001b[0m\n\u001b[0;32m      4\u001b[0m \u001b[1;32mfrom\u001b[0m \u001b[0mpdfminer\u001b[0m\u001b[1;33m.\u001b[0m\u001b[0mpdfpage\u001b[0m \u001b[1;32mimport\u001b[0m \u001b[0mPDFTextExtractionNotAllowed\u001b[0m\u001b[1;33m\u001b[0m\u001b[1;33m\u001b[0m\u001b[0m\n\u001b[0;32m      5\u001b[0m \u001b[1;32mfrom\u001b[0m \u001b[0mpdfminer\u001b[0m\u001b[1;33m.\u001b[0m\u001b[0mpdfinterp\u001b[0m \u001b[1;32mimport\u001b[0m \u001b[0mPDFResourceManager\u001b[0m\u001b[1;33m\u001b[0m\u001b[1;33m\u001b[0m\u001b[0m\n",
      "\u001b[1;32mD:\\ProgramData\\Anaconda3\\envs\\pyleo\\lib\\site-packages\\pdfminer\\pdfdocument.py\u001b[0m in \u001b[0;36m<module>\u001b[1;34m\u001b[0m\n\u001b[0;32m     24\u001b[0m \u001b[1;32mfrom\u001b[0m \u001b[1;33m.\u001b[0m\u001b[0mpdftypes\u001b[0m \u001b[1;32mimport\u001b[0m \u001b[0mPDFTypeError\u001b[0m\u001b[1;33m\u001b[0m\u001b[1;33m\u001b[0m\u001b[0m\n\u001b[0;32m     25\u001b[0m \u001b[1;32mfrom\u001b[0m \u001b[1;33m.\u001b[0m\u001b[0mpdftypes\u001b[0m \u001b[1;32mimport\u001b[0m \u001b[0mPDFStream\u001b[0m\u001b[1;33m\u001b[0m\u001b[1;33m\u001b[0m\u001b[0m\n\u001b[1;32m---> 26\u001b[1;33m \u001b[1;32mfrom\u001b[0m \u001b[1;33m.\u001b[0m\u001b[0mpdftypes\u001b[0m \u001b[1;32mimport\u001b[0m \u001b[0mPDFObjectNotFound\u001b[0m\u001b[1;33m\u001b[0m\u001b[1;33m\u001b[0m\u001b[0m\n\u001b[0m\u001b[0;32m     27\u001b[0m \u001b[1;32mfrom\u001b[0m \u001b[1;33m.\u001b[0m\u001b[0mpdftypes\u001b[0m \u001b[1;32mimport\u001b[0m \u001b[0mdecipher_all\u001b[0m\u001b[1;33m\u001b[0m\u001b[1;33m\u001b[0m\u001b[0m\n\u001b[0;32m     28\u001b[0m \u001b[1;32mfrom\u001b[0m \u001b[1;33m.\u001b[0m\u001b[0mpdftypes\u001b[0m \u001b[1;32mimport\u001b[0m \u001b[0mint_value\u001b[0m\u001b[1;33m\u001b[0m\u001b[1;33m\u001b[0m\u001b[0m\n",
      "\u001b[1;31mImportError\u001b[0m: cannot import name 'PDFObjectNotFound'"
     ],
     "ename": "ImportError",
     "evalue": "cannot import name 'PDFObjectNotFound'",
     "output_type": "error"
    }
   ],
   "source": [
    "from pdfminersix import pdfParser\n",
    "from pdfminersix.pdfparser import PDFParser\n",
    "from pdfminer.pdfdocument import PDFDocument\n",
    "from pdfminer.pdfpage import PDFPage\n",
    "from pdfminer.pdfpage import PDFTextExtractionNotAllowed\n",
    "from pdfminer.pdfinterp import PDFResourceManager\n",
    "from pdfminer.pdfinterp import PDFPageInterpreter\n",
    "from pdfminer.layout import LAParams\n",
    "from pdfminer.converter import PDFPageAggregator\n",
    "\n",
    "\n",
    "def extract_layout_by_page(pdf_path):\n",
    "    \"\"\"\n",
    "    Extracts LTPage objects from a pdf file.\n",
    "    \n",
    "    slightly modified from\n",
    "    https://euske.github.io/pdfminer/programming.html\n",
    "    \"\"\"\n",
    "    laparams = LAParams()\n",
    "\n",
    "    fp = open(pdf_path, 'rb')\n",
    "    parser = PDFParser(fp)\n",
    "    document = PDFDocument(parser)\n",
    "\n",
    "    if not document.is_extractable:\n",
    "        raise PDFTextExtractionNotAllowed\n",
    "\n",
    "    rsrcmgr = PDFResourceManager()\n",
    "    device = PDFPageAggregator(rsrcmgr, laparams=laparams)\n",
    "    interpreter = PDFPageInterpreter(rsrcmgr, device)\n",
    "\n",
    "    layouts = []\n",
    "    for page in PDFPage.create_pages(document):\n",
    "        interpreter.process_page(page)\n",
    "        layouts.append(device.get_result())\n",
    "\n",
    "    return layouts\n",
    "\n",
    "example_file = \"./organizar/01 - Marlon Colovini/01 - Marlon - UC 01 - 2018-02.pdf\"\n",
    "page_layouts = extract_layout_by_page(example_file)\n"
   ],
   "metadata": {
    "collapsed": false,
    "pycharm": {
     "name": "#%%\n",
     "is_executing": false
    }
   }
  },
  {
   "cell_type": "code",
   "execution_count": 57,
   "outputs": [
    {
     "traceback": [
      "\u001b[1;31m---------------------------------------------------------------------------\u001b[0m",
      "\u001b[1;31mUnsupportedOperation\u001b[0m                      Traceback (most recent call last)",
      "\u001b[1;32m<ipython-input-57-5ac54869afdb>\u001b[0m in \u001b[0;36m<module>\u001b[1;34m\u001b[0m\n\u001b[0;32m      1\u001b[0m \u001b[1;32mimport\u001b[0m \u001b[0mPyPDF2\u001b[0m\u001b[1;33m\u001b[0m\u001b[1;33m\u001b[0m\u001b[0m\n\u001b[0;32m      2\u001b[0m \u001b[0mpdf_file\u001b[0m \u001b[1;33m=\u001b[0m \u001b[0mopen\u001b[0m\u001b[1;33m(\u001b[0m\u001b[1;34m'./organizar/01 - Marlon Colovini/01 - Marlon - UC 01 - 2018-02.pdf'\u001b[0m\u001b[1;33m)\u001b[0m\u001b[1;33m\u001b[0m\u001b[1;33m\u001b[0m\u001b[0m\n\u001b[1;32m----> 3\u001b[1;33m \u001b[0mread_pdf\u001b[0m \u001b[1;33m=\u001b[0m \u001b[0mPyPDF2\u001b[0m\u001b[1;33m.\u001b[0m\u001b[0mPdfFileReader\u001b[0m\u001b[1;33m(\u001b[0m\u001b[0mpdf_file\u001b[0m\u001b[1;33m)\u001b[0m\u001b[1;33m\u001b[0m\u001b[1;33m\u001b[0m\u001b[0m\n\u001b[0m\u001b[0;32m      4\u001b[0m \u001b[0mnumber_of_pages\u001b[0m \u001b[1;33m=\u001b[0m \u001b[0mread_pdf\u001b[0m\u001b[1;33m.\u001b[0m\u001b[0mgetNumPages\u001b[0m\u001b[1;33m(\u001b[0m\u001b[1;33m)\u001b[0m\u001b[1;33m\u001b[0m\u001b[1;33m\u001b[0m\u001b[0m\n\u001b[0;32m      5\u001b[0m \u001b[0mpage\u001b[0m \u001b[1;33m=\u001b[0m \u001b[0mread_pdf\u001b[0m\u001b[1;33m.\u001b[0m\u001b[0mgetPage\u001b[0m\u001b[1;33m(\u001b[0m\u001b[1;36m0\u001b[0m\u001b[1;33m)\u001b[0m\u001b[1;33m\u001b[0m\u001b[1;33m\u001b[0m\u001b[0m\n",
      "\u001b[1;32mD:\\ProgramData\\Anaconda3\\envs\\pyleo\\lib\\site-packages\\PyPDF2\\pdf.py\u001b[0m in \u001b[0;36m__init__\u001b[1;34m(self, stream, strict, warndest, overwriteWarnings)\u001b[0m\n\u001b[0;32m   1082\u001b[0m             \u001b[0mstream\u001b[0m \u001b[1;33m=\u001b[0m \u001b[0mBytesIO\u001b[0m\u001b[1;33m(\u001b[0m\u001b[0mb_\u001b[0m\u001b[1;33m(\u001b[0m\u001b[0mfileobj\u001b[0m\u001b[1;33m.\u001b[0m\u001b[0mread\u001b[0m\u001b[1;33m(\u001b[0m\u001b[1;33m)\u001b[0m\u001b[1;33m)\u001b[0m\u001b[1;33m)\u001b[0m\u001b[1;33m\u001b[0m\u001b[1;33m\u001b[0m\u001b[0m\n\u001b[0;32m   1083\u001b[0m             \u001b[0mfileobj\u001b[0m\u001b[1;33m.\u001b[0m\u001b[0mclose\u001b[0m\u001b[1;33m(\u001b[0m\u001b[1;33m)\u001b[0m\u001b[1;33m\u001b[0m\u001b[1;33m\u001b[0m\u001b[0m\n\u001b[1;32m-> 1084\u001b[1;33m         \u001b[0mself\u001b[0m\u001b[1;33m.\u001b[0m\u001b[0mread\u001b[0m\u001b[1;33m(\u001b[0m\u001b[0mstream\u001b[0m\u001b[1;33m)\u001b[0m\u001b[1;33m\u001b[0m\u001b[1;33m\u001b[0m\u001b[0m\n\u001b[0m\u001b[0;32m   1085\u001b[0m         \u001b[0mself\u001b[0m\u001b[1;33m.\u001b[0m\u001b[0mstream\u001b[0m \u001b[1;33m=\u001b[0m \u001b[0mstream\u001b[0m\u001b[1;33m\u001b[0m\u001b[1;33m\u001b[0m\u001b[0m\n\u001b[0;32m   1086\u001b[0m \u001b[1;33m\u001b[0m\u001b[0m\n",
      "\u001b[1;32mD:\\ProgramData\\Anaconda3\\envs\\pyleo\\lib\\site-packages\\PyPDF2\\pdf.py\u001b[0m in \u001b[0;36mread\u001b[1;34m(self, stream)\u001b[0m\n\u001b[0;32m   1687\u001b[0m         \u001b[1;32mif\u001b[0m \u001b[0mdebug\u001b[0m\u001b[1;33m:\u001b[0m \u001b[0mprint\u001b[0m\u001b[1;33m(\u001b[0m\u001b[1;34m\">>read\"\u001b[0m\u001b[1;33m,\u001b[0m \u001b[0mstream\u001b[0m\u001b[1;33m)\u001b[0m\u001b[1;33m\u001b[0m\u001b[1;33m\u001b[0m\u001b[0m\n\u001b[0;32m   1688\u001b[0m         \u001b[1;31m# start at the end:\u001b[0m\u001b[1;33m\u001b[0m\u001b[1;33m\u001b[0m\u001b[1;33m\u001b[0m\u001b[0m\n\u001b[1;32m-> 1689\u001b[1;33m         \u001b[0mstream\u001b[0m\u001b[1;33m.\u001b[0m\u001b[0mseek\u001b[0m\u001b[1;33m(\u001b[0m\u001b[1;33m-\u001b[0m\u001b[1;36m1\u001b[0m\u001b[1;33m,\u001b[0m \u001b[1;36m2\u001b[0m\u001b[1;33m)\u001b[0m\u001b[1;33m\u001b[0m\u001b[1;33m\u001b[0m\u001b[0m\n\u001b[0m\u001b[0;32m   1690\u001b[0m         \u001b[1;32mif\u001b[0m \u001b[1;32mnot\u001b[0m \u001b[0mstream\u001b[0m\u001b[1;33m.\u001b[0m\u001b[0mtell\u001b[0m\u001b[1;33m(\u001b[0m\u001b[1;33m)\u001b[0m\u001b[1;33m:\u001b[0m\u001b[1;33m\u001b[0m\u001b[1;33m\u001b[0m\u001b[0m\n\u001b[0;32m   1691\u001b[0m             \u001b[1;32mraise\u001b[0m \u001b[0mutils\u001b[0m\u001b[1;33m.\u001b[0m\u001b[0mPdfReadError\u001b[0m\u001b[1;33m(\u001b[0m\u001b[1;34m'Cannot read an empty file'\u001b[0m\u001b[1;33m)\u001b[0m\u001b[1;33m\u001b[0m\u001b[1;33m\u001b[0m\u001b[0m\n",
      "\u001b[1;31mUnsupportedOperation\u001b[0m: can't do nonzero end-relative seeks"
     ],
     "ename": "UnsupportedOperation",
     "evalue": "can't do nonzero end-relative seeks",
     "output_type": "error"
    }
   ],
   "source": [
    "import PyPDF2\n",
    "pdf_file = open('./organizar/01 - Marlon Colovini/01 - Marlon - UC 01 - 2018-02.pdf')\n",
    "read_pdf = PyPDF2.PdfFileReader(pdf_file)\n",
    "number_of_pages = read_pdf.getNumPages()\n",
    "page = read_pdf.getPage(0)\n",
    "page_content = page.extractText()\n",
    "print (page_content)"
   ],
   "metadata": {
    "collapsed": false,
    "pycharm": {
     "name": "#%%\n",
     "is_executing": false
    }
   }
  },
  {
   "cell_type": "code",
   "execution_count": 28,
   "outputs": [
    {
     "data": {
      "text/plain": "[b'MARLON',\n b'ROGER',\n b'COLOVINI',\n b'R',\n b'CEL',\n b'DAMASIO',\n b'GOMES',\n b'DE',\n b'CASTRO',\n b'381',\n b'OLIVEIRA',\n b'98801-260',\n b'SANTO',\n b'ANGELO',\n b'RS',\n b'Nota',\n b'Fiscal',\n b'Conta',\n b'de',\n b'Energia',\n b'El\\xc3\\xa9trica',\n b'N\\xc2\\xba.',\n b'056519307',\n b's\\xc3\\xa9rie',\n b'U',\n b'P\\xc3\\xa1g.',\n b'1',\n b'de',\n b'1',\n b'Data',\n b'de',\n b'Emiss\\xc3\\xa3o',\n b'16/02/2018',\n b'Data',\n b'de',\n b'Apresenta\\xc3\\xa7\\xc3\\xa3o',\n b'21/02/2018',\n b'Conta',\n b'Contrato',\n b'No',\n b'910021300090',\n b'Lote',\n b'Roteiro',\n b'de',\n b'leitura',\n b'Medidor',\n b'Cliente',\n b'Reservado',\n b'ao',\n b'fisco',\n b'09',\n b'STABU026-00000422',\n b'13476579',\n b'0800630999',\n b'2B71.80B7.EA13.1C8D.0C65.C9AD.3300.A63A',\n b'PREZADO',\n b'(A)',\n b'CLIENTE',\n b'Mantenha',\n b'seus',\n b'dados',\n b'sempre',\n b'atualizados,',\n b'alguns',\n b'itens',\n b'determinam',\n b'a',\n b'tarifa',\n b'e',\n b'tributa\\xc3\\xa7\\xc3\\xa3o',\n b'de',\n b'sua',\n b'fatura',\n b'de',\n b'energia',\n b'el\\xc3\\xa9trica.',\n b'Solicite',\n b'os',\n b'servi\\xc3\\xa7os',\n b'dispon\\xc3\\xadveis',\n b'em',\n b'nosso',\n b'site',\n b'com',\n b'rapidez',\n b'e',\n b'seguran\\xc3\\xa7a',\n b'e',\n b'reserve',\n b'mais',\n b'tempo',\n b'para',\n b'voc\\xc3\\xaa',\n b'em',\n b'seu',\n b'dia-a-dia.',\n b'Mais',\n b'informa\\xc3\\xa7\\xc3\\xb5es',\n b'acesse',\n b'o',\n b'endere\\xc3\\xa7o',\n b'que',\n b'consta',\n b'no',\n b'verso',\n b'de',\n b'sua',\n b'conta.',\n b'DADOS',\n b'DA',\n b'UNIDADE',\n b'CONSUMIDORA',\n b'MARLON',\n b'ROGER',\n b'COLOVINI',\n b'R',\n b'CEL',\n b'DAMASIO',\n b'GOMES',\n b'DE',\n b'CASTRO,',\n b'381',\n b'OLIVEIRA',\n b'SANTO',\n b'ANGELO',\n b'-',\n b'RS',\n b'CPF:821.698.700-59',\n b'CLASSIFICA\\xc3\\x87\\xc3\\x83O:',\n b'B1',\n b'Residencial',\n b'-',\n b'Monof\\xc3\\xa1sico',\n b'220',\n b'V',\n b'ATENDIMENTO',\n b'PN',\n b'0800',\n b'9',\n b'70',\n b'09',\n b'00',\n b'0800630999',\n b'www.rge-rs.com.br',\n b'SEU',\n b'C\\xc3\\x93DIGO',\n b'CONTA/M\\xc3\\x8aS',\n b'3083300629',\n b'FEV/2018',\n b'Segunda',\n b'Via',\n b'VENCIMENTO',\n b'05/03/2018',\n b'TOTAL',\n b'A',\n b'PAGAR',\n b'(R$)',\n b'32,58',\n b'DISCRIMINA\\xc3\\x87\\xc3\\x83O',\n b'DA',\n b'OPERA\\xc3\\x87\\xc3\\x83O',\n b'-',\n b'RESERVADO',\n b'AO',\n b'FISCO',\n b'Cod.',\n b'Descri\\xc3\\xa7\\xc3\\xa3o',\n b'da',\n b'Opera\\xc3\\xa7\\xc3\\xa3o',\n b'M\\xc3\\xaas',\n b'115',\n b'N\\xc2\\xb0',\n b'903201949887',\n b'Ref.',\n b'0605',\n b'Energia',\n b'Ativa',\n b'Fornecida',\n b'-',\n b'TUSD',\n b'0601',\n b'Energia',\n b'Ativa',\n b'Fornecida',\n b'-',\n b'TE',\n b'0605',\n b'Energia',\n b'Ativa',\n b'Injetada',\n b'TUSD',\n b'0601',\n b'Energia',\n b'Ativa',\n b'Injetada',\n b'TE',\n b'0605',\n b'Custo',\n b'de',\n b'Disp.',\n b'Energia',\n b'TUSD',\n b'0601',\n b'Custo',\n b'de',\n b'Disp.',\n b'Energia',\n b'BVD-TE',\n b'Total',\n b'Distribuidora',\n b'D\\xc3\\x89BITOS',\n b'DE',\n b'OUTROS',\n b'SERVI\\xc3\\x87OS',\n b'0807',\n b'Contribui\\xc3\\xa7\\xc3\\xa3o',\n b'Custeio',\n b'IP-CIP',\n b'CR\\xc3\\x89DITOS',\n b'/',\n b'DEVOLU\\xc3\\x87\\xc3\\x95ES',\n b'0999',\n b'Ressarcimento',\n b'DIC',\n b'Anual',\n b'0999',\n b'Ressarcimento',\n b'DIC',\n b'Trimestre',\n b'FEV/18',\n b'FEV/18',\n b'FEV/18',\n b'FEV/18',\n b'FEV/18',\n b'FEV/18',\n b'FEV/18',\n b'Quant.',\n b'Unid.',\n b'Faturada',\n b'Med.',\n b'128,000',\n b'128,000',\n b'128,000',\n b'128,000',\n b'30,000',\n b'30,000',\n b'kWh',\n b'kWh',\n b'kWh',\n b'kWh',\n b'kWh',\n b'kWh',\n b'Tarifa',\n b'com',\n b'Valor',\n b'Total',\n b'da',\n b'Base',\n b'C\\xc3\\xa1lculo',\n b'Aliq.',\n b'Tributos',\n b'Opera\\xc3\\xa7\\xc3\\xa3o',\n b'ICMS',\n b'ICMS',\n b'0,31007813',\n b'0,36132813',\n b'0,21703125',\n b'0,36132813',\n b'0,31000000',\n b'0,36100000',\n b'39,69',\n b'46,25',\n b'27,7846,25-',\n b'9,30',\n b'10,83',\n b'32,04',\n b'39,69',\n b'46,25',\n b'30,00',\n b'30,00',\n b'46,259,30',\n b'10,83',\n b'30,00',\n b'30,00',\n b'30,00',\n b'ICMS',\n b'Base',\n b'C\\xc3\\xa1lculo',\n b'PIS/COFINS',\n b'11,91',\n b'13,88',\n b'13,882,79',\n b'3,25',\n b'39,69',\n b'46,25',\n b'39,6946,25-',\n b'9,30',\n b'10,83',\n b'PIS',\n b'COFINS',\n b'Bandeiras',\n b'Tarif\\xc3\\xa1rias',\n b'0,96%',\n b'0,38',\n b'0,44',\n b'0,380,440,09',\n b'0,10',\n b'4,44%',\n b'1,76',\n b'2,05',\n b'1,762,050,41',\n b'0,48',\n b'(Dias)',\n b'Verde',\n b'14',\n b'Dias',\n b'Verde',\n b'14',\n b'Dias',\n b'5,27',\n b'4,11',\n b'0,62',\n b'TOTAL',\n b'CONSOLIDADO',\n b'HIST\\xc3\\x93RICO',\n b'DE',\n b'CONSUMO',\n b'2018',\n b'FEV',\n b'lllllllllllllllllllllllllllllllllllllllllllllllllllllllllllllllllllllllll',\n b'kWh',\n b'Dias',\n b'128',\n b'28',\n b'TARIFA',\n b'ANEEL',\n b'Consumo',\n b'TUSD',\n b'Consumo',\n b'kWh',\n b'0,20039000',\n b'TE',\n b'0,23347000',\n b'32,58',\n b'59,82',\n b'17,95',\n b'20,13',\n b'0,19',\n b'0,89',\n b'EQUIPAMENTOS',\n b'DE',\n b'MEDI\\xc3\\x87\\xc3\\x83O',\n b'/',\n b'DATAS',\n b'DE',\n b'LEITURA',\n b'Leitura',\n b'Leitura',\n b'Fator',\n b'Consumo',\n b'Taxa',\n b'de',\n b'Perda',\n b'N\\xc2\\xba',\n b'Energia',\n b'14/02/2018',\n b'18/01/2018',\n b'Multipl.',\n b'[kWh]',\n b'[%]',\n b'13476579',\n b'ATIVA',\n b'129',\n b'1',\n b'1,00',\n b'128',\n b'13476579',\n b'INJETADA',\n b'503',\n b'1',\n b'1,00000',\n b'502',\n b'Leitura',\n b'Pr\\xc3\\xb3ximo',\n b'M\\xc3\\xaas',\n b'15/03/2018',\n b'COMPOSI\\xc3\\x87\\xc3\\x83O',\n b'FORNECIMENTO',\n b'Energia',\n b'R$',\n b'34,68',\n b'Transmiss\\xc3\\xa3o',\n b'R$',\n b'5,87',\n b'Distribui\\xc3\\xa7\\xc3\\xa3o',\n b'R$',\n b'18,18',\n b'Perdas',\n b'R$',\n b'4,99',\n b'Encargos',\n b'R$',\n b'4,81',\n b'Tributos',\n b'R$',\n b'19,03',\n b'INDICADORES',\n b'DE',\n b'CONTINUIDADE',\n b'DE',\n b'FORNECIMENTO',\n b'DE',\n b'ENERGIA',\n b'SANTO',\n b'ANGELO',\n b'2',\n b'Padr\\xc3\\xa3o',\n b'Padr\\xc3\\xa3o',\n b'Padr\\xc3\\xa3o',\n b'Apurado',\n b'Per\\xc3\\xadodo',\n b'DIC',\n b'FIC',\n b'DMIC',\n b'DICRI',\n b'Mensal',\n b'5,43',\n b'3,36',\n b'3,11',\n b'12,22',\n b'Trimestral',\n b'10,86',\n b'6,72',\n b'Anual',\n b'21,73',\n b'13,45',\n b'Mensal',\n b'3,26',\n b'1,00',\n b'0,00',\n b'0,00',\n b'Apura\\xc3\\xa7\\xc3\\xa3o',\n b'12/2017',\n b'INFORMA\\xc3\\x87\\xc3\\x95ES',\n b'SOBRE',\n b'A',\n b'FATURA',\n b'Saldo',\n b'em',\n b'Energia',\n b'da',\n b'Instala\\xc3\\xa7\\xc3\\xa3o:',\n b'Ponta',\n b'0,0000000000',\n b'kWh',\n b'Fora',\n b'Ponta',\n b'0,0000000000',\n b'kWh',\n b'Intermedi\\xc3\\xa1rio',\n b'0,0000000000',\n b'kWh',\n b'Saldo',\n b'a',\n b'expirar',\n b'pr\\xc3\\xb3ximo',\n b'm\\xc3\\xaas:',\n b'0,0000000000',\n b'kWh',\n b'Saldo',\n b'em',\n b'Energia',\n b'da',\n b'Instala\\xc3\\xa7\\xc3\\xa3o:',\n b'Ponta',\n b'0,0000000000',\n b'kWh',\n b'Fora',\n b'Ponta',\n b'0,0000000000',\n b'kWh',\n b'Intermedi\\xc3\\xa1rio',\n b'0,0000000000',\n b'kWh',\n b'Saldo',\n b'a',\n b'expirar',\n b'pr\\xc3\\xb3ximo',\n b'm\\xc3\\xaas:',\n b'0,0000000000',\n b'kWh',\n b'AVISO',\n b'IMPORTANTE',\n b'Valor',\n b'do',\n b'EUSD',\n b'[R$]',\n b'37,47',\n b'------------------------------------------------------------------------------------------------------------------------------------------------------------------------------------------------',\n b'Nota',\n b'Fiscal',\n b'C\\xc3\\xb3dD\\xc3\\xa9bAut-Banco',\n b'Total',\n b'a',\n b'Pagar',\n b'(R$)',\n b'Data',\n b'de',\n b'Vencimento',\n b'Conta',\n b'de',\n b'Energia',\n b'El\\xc3\\xa9trica',\n b'910021300090',\n b'32,58',\n b'05/03/2018',\n b'056519307',\n b'S\\xc3\\xa9rie',\n b'U',\n b'Essa',\n b'conta',\n b'poder\\xc3\\xa1',\n b'ser',\n b'paga',\n b'no',\n b'credenciado',\n b'mais',\n b'perto',\n b'de',\n b'voc\\xc3\\xaa.',\n b'Confira',\n b'a',\n b'lista',\n b'completa',\n b'no',\n b'site',\n b'www.rge-rs.com.br',\n b'RESTAURANTE',\n b'DA',\n b'TIA',\n b'COLOMBO-LOJA',\n b'49',\n b'FARMACIA',\n b'TIARAJU',\n b'AV',\n b'GETULIO',\n b'VARGAS',\n b'-,437',\n b'-',\n b'CENTRO',\n b'AV',\n b'BRASIL,,754',\n b'-',\n b'CENTRO',\n b'AV',\n b'BRASIL,854',\n b'-',\n b'CENTRO',\n b'836500000002',\n b'325800893001',\n b'881119297094',\n b'100213000902',\n b'Autentica\\xc3\\xa7\\xc3\\xa3o',\n b'Mec\\xc3\\xa2nica']"
     },
     "metadata": {},
     "output_type": "execute_result",
     "execution_count": 28
    }
   ],
   "source": [
    "import textract\n",
    "text = textract.process('./organizar/01 - Marlon Colovini/01 - Marlon - UC 01 - 2018-02.pdf')\n",
    "nome = text.split()\n",
    "nome"
   ],
   "metadata": {
    "collapsed": false,
    "pycharm": {
     "name": "#%%\n",
     "is_executing": false
    }
   }
  },
  {
   "cell_type": "code",
   "execution_count": 63,
   "outputs": [
    {
     "data": {
      "text/plain": "b'FEV/2018'"
     },
     "metadata": {},
     "output_type": "execute_result",
     "execution_count": 63
    }
   ],
   "source": [
    "nome[0]\n",
    "data = nome[148]\n",
    "data"
   ],
   "metadata": {
    "collapsed": false,
    "pycharm": {
     "name": "#%%\n",
     "is_executing": false
    }
   }
  },
  {
   "cell_type": "code",
   "execution_count": 76,
   "outputs": [
    {
     "data": {
      "text/plain": "\"b'MARLON' b'ROGER' b'COLOVINI'\""
     },
     "metadata": {},
     "output_type": "execute_result",
     "execution_count": 76
    }
   ],
   "source": [
    "nome_completo = nome[0:3]\n",
    "nomes = ' '.join(str(e) for e in nome_completo)\n",
    "nomes"
   ],
   "metadata": {
    "collapsed": false,
    "pycharm": {
     "name": "#%%\n",
     "is_executing": false
    }
   }
  },
  {
   "cell_type": "code",
   "execution_count": 82,
   "outputs": [
    {
     "traceback": [
      "\u001b[1;31m---------------------------------------------------------------------------\u001b[0m",
      "\u001b[1;31mAttributeError\u001b[0m                            Traceback (most recent call last)",
      "\u001b[1;32m<ipython-input-82-d2de5b093e49>\u001b[0m in \u001b[0;36m<module>\u001b[1;34m\u001b[0m\n\u001b[1;32m----> 1\u001b[1;33m \u001b[0mnomes\u001b[0m \u001b[1;33m=\u001b[0m \u001b[0mnomes\u001b[0m\u001b[1;33m.\u001b[0m\u001b[0msplit\u001b[0m\u001b[1;33m(\u001b[0m\u001b[1;34m\"b'\"\u001b[0m\u001b[1;33m)\u001b[0m\u001b[1;33m\u001b[0m\u001b[1;33m\u001b[0m\u001b[0m\n\u001b[0m\u001b[0;32m      2\u001b[0m \u001b[0mnomes\u001b[0m\u001b[1;33m\u001b[0m\u001b[1;33m\u001b[0m\u001b[0m\n",
      "\u001b[1;31mAttributeError\u001b[0m: 'list' object has no attribute 'split'"
     ],
     "ename": "AttributeError",
     "evalue": "'list' object has no attribute 'split'",
     "output_type": "error"
    }
   ],
   "source": [
    "nomes = nomes.split(\"b'\")\n",
    "nomes"
   ],
   "metadata": {
    "collapsed": false,
    "pycharm": {
     "name": "#%%\n",
     "is_executing": false
    }
   }
  },
  {
   "cell_type": "code",
   "execution_count": null,
   "outputs": [],
   "source": [
    "\n"
   ],
   "metadata": {
    "collapsed": false,
    "pycharm": {
     "name": "#%%\n"
    }
   }
  }
 ],
 "metadata": {
  "kernelspec": {
   "display_name": "Python 3",
   "language": "python",
   "name": "python3"
  },
  "language_info": {
   "codemirror_mode": {
    "name": "ipython",
    "version": 3
   },
   "file_extension": ".py",
   "mimetype": "text/x-python",
   "name": "python",
   "nbconvert_exporter": "python",
   "pygments_lexer": "ipython3",
   "version": "3.6.9"
  },
  "pycharm": {
   "stem_cell": {
    "cell_type": "raw",
    "source": [],
    "metadata": {
     "collapsed": false
    }
   }
  }
 },
 "nbformat": 4,
 "nbformat_minor": 4
}