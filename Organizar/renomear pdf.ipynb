{
 "cells": [
  {
   "cell_type": "code",
   "execution_count": 1,
   "metadata": {
    "collapsed": true,
    "pycharm": {
     "is_executing": false
    }
   },
   "outputs": [],
   "source": [
    "import os\n",
    "import shutil"
   ]
  },
  {
   "cell_type": "code",
   "execution_count": 7,
   "outputs": [],
   "source": [
    "local_arquivos = './organização/'\n",
    "\n",
    "def files_path1(*args):\n",
    "    l = []\n",
    "    k = []\n",
    "    for item in args:\n",
    "        for p, _, files in os.walk(os.path.abspath(item)):\n",
    "            for file in files:\n",
    "                l.append((file))\n",
    "                k.append((p+'\\\\'+file))\n",
    "    return (l, k)"
   ],
   "metadata": {
    "collapsed": false,
    "pycharm": {
     "name": "#%%\n",
     "is_executing": false
    }
   }
  },
  {
   "cell_type": "code",
   "execution_count": 48,
   "outputs": [
    {
     "data": {
      "text/plain": "'pdf8.pdf'"
     },
     "metadata": {},
     "output_type": "execute_result",
     "execution_count": 48
    }
   ],
   "source": [
    "arquivos = files_path1(local_arquivos)\n",
    "arquivos[0][7]"
   ],
   "metadata": {
    "collapsed": false,
    "pycharm": {
     "name": "#%%\n",
     "is_executing": false
    }
   }
  },
  {
   "cell_type": "code",
   "execution_count": 80,
   "outputs": [],
   "source": [
    "import textract\n",
    "text = textract.process(arquivos[1][8], encoding='utf-8')\n",
    "text[:20:]\n",
    "texto = text.decode(\"utf-8\")"
   ],
   "metadata": {
    "collapsed": false,
    "pycharm": {
     "name": "#%%\n",
     "is_executing": false
    }
   }
  },
  {
   "cell_type": "code",
   "execution_count": 81,
   "outputs": [
    {
     "data": {
      "text/plain": "'AABB'"
     },
     "metadata": {},
     "output_type": "execute_result",
     "execution_count": 81
    }
   ],
   "source": [
    "cincoletras = texto[:5:]\n",
    "if cincoletras == \"ASSOC\":\n",
    "    vinteletras = texto[:20:]\n",
    "    if vinteletras == 'ASSOCIACAO ATLET BAN':\n",
    "        vinteletras = 'AABB'\n",
    "        cincoletras = 'AABB'\n",
    "    elif vinteletras == 'ASSOCIACAO CARITATIV':\n",
    "        vinteletras = 'CARMELO'\n",
    "        cincoletras = 'CARMELO'\n",
    "vinteletras\n",
    "cincoletras"
   ],
   "metadata": {
    "collapsed": false,
    "pycharm": {
     "name": "#%%\n",
     "is_executing": false
    }
   }
  },
  {
   "cell_type": "code",
   "execution_count": 82,
   "outputs": [
    {
     "data": {
      "text/plain": "'ASSOCIACAO ATLET BANCO BRASIL STO ANGELO R MARQ DO HERVAL 2158 CENTRO 98803-390 SANTO ANGELO RS\\r\\n\\r\\nNota Fiscal / RE - Ato Declaratório nº 2019/040 Conta de Energia Elétrica Nº. 049099919 série U Pág. 1 de 1 Data de Emissão 10/10/2019\\r\\n\\r\\nData de Apresentação 15/10/2019\\r\\n\\r\\nConta Contrato No 910002713611\\r\\n\\r\\nLote Roteiro de leitura\\r\\n\\r\\nMedidor\\r\\n\\r\\nCliente\\r\\n\\r\\nReservado ao fisco\\r\\n\\r\\n06\\r\\n\\r\\nSTABU011-00000086\\r\\n\\r\\n30965019\\r\\n\\r\\n0712344763\\r\\n\\r\\n5EA8.199B.C009.B782.65A6.3286.FA6F.CA62\\r\\n\\r\\nPREZADO (A) CLIENTE Mantenha seus dados sempre atualizados, alguns itens determinam a tarifa e tributação de sua fatura de energia elétrica. Solicite os serviços disponíveis em nosso site com rapidez e segurança e reserve mais tempo para você em seu dia-a-dia. Mais informações acesse o endereço que consta no verso de sua conta.\\r\\n\\r\\nDADOS DA UNIDADE CONSUMIDORA ASSOCIACAO ATLET BANCO BRASIL STO ANGELO R MARQ DO HERVAL, 2158 CENTRO SANTO ANGELO - RS\\r\\n\\r\\nATENDIMENTO\\r\\n\\r\\nPN\\r\\n\\r\\n0800 970 0900\\r\\n\\r\\n0712344763\\r\\n\\r\\nwww.rge-rs.com.br\\r\\n\\r\\nSEU CÓDIGO\\r\\n3081819696\\r\\n\\r\\nDISCRIMINAÇÃO DA OPERAÇÃO - RESERVADO AO FISCO\\r\\n\\r\\nCod.\\r\\n\\r\\nDescrição da Operação\\r\\n\\r\\nMês\\r\\n\\r\\n115 N° 901752675277\\r\\n\\r\\nRef.\\r\\n\\r\\n0605 Energia Ativa Fornecida - TUSD 0601 Energia Ativa Fornecida - TE 0601 Adicional de Bandeira Amarela 0601 Adicional de Bandeira Vermelha 0605 Energ Atv Inj. oUC mPT - TUSD 0605 Energ Atv Inj. oUC mPT - TUSD 0601 Energ Atv Inj. oUC mPT - TE 0601 Energ Atv Inj. oUC mPT - TE 0601 Cred Adc Band Amarela 0601 Cred Adc Band Vermelha\\r\\nTotal Distribuidora DÉBITOS DE OUTROS SERVIÇOS 0807 Contrib. Custeio IP-CIP Municipal\\r\\n\\r\\nOUT/19 OUT/19 OUT/19 OUT/19 SET/19 AGO/19 SET/19 AGO/19 OUT/19 OUT/19\\r\\nOUT/19\\r\\n\\r\\nQuant. Unid. Faturada Med. 4.977,000 kWh 4.977,000 kWh\\r\\n4.694,000 kWh 183,000 kWh\\r\\n4.694,000 kWh 183,000 kWh\\r\\n\\r\\nCNPJ:96.216.718/0001-99 Classificação: Convencional B3 Comercial Outros Serviços Atividades - Trifásico 220 / 127 V\\r\\n\\r\\nCONTA/MÊS\\r\\nOUT/2019\\r\\n\\r\\nVENCIMENTO\\r\\n11/11/2019\\r\\n\\r\\nTOTAL A PAGAR (R$)\\r\\n845,01\\r\\n\\r\\nTarifa com Valor Total da Base Cálculo Aliq.\\r\\n\\r\\nTributos\\r\\n\\r\\nOperação\\r\\n\\r\\nICMS ICMS\\r\\n\\r\\n0,45912598 0,42709263\\r\\n0,32138901 0,32131148 0,42709417 0,42710383\\r\\n\\r\\n2.285,07 2.125,64\\r\\n38,09 213,32 1.508,60-\\r\\n58,802.004,78-\\r\\n78,1637,31209,03765,44\\r\\n\\r\\n2.285,07 2.125,64\\r\\n38,09 213,32\\r\\n\\r\\n30,00 30,00 30,00 30,00\\r\\n\\r\\n2.004,7878,1637,31-\\r\\n209,03-\\r\\n\\r\\n30,00 30,00 30,00 30,00\\r\\n\\r\\nICMS Base Cálculo\\r\\n\\r\\nPIS/COFINS\\r\\n\\r\\n685,52 637,69\\r\\n11,43 64,00\\r\\n601,4323,4511,1962,71-\\r\\n\\r\\n2.285,07 2.125,64\\r\\n38,09 213,32 2.155,14-\\r\\n84,002.004,78-\\r\\n78,1637,31209,03-\\r\\n\\r\\nPIS COFINS Bandeiras\\r\\n\\r\\n1,22% 27,88 25,93 0,46 2,60 26,291,0224,460,950,462,55-\\r\\n\\r\\n5,56% Tarifárias\\r\\n\\r\\n127,05 Vermelha P1\\r\\n\\r\\n118,19 2,12\\r\\n\\r\\n21 Dias Amarela 10 Dias\\r\\n\\r\\n11,86\\r\\n\\r\\n119,83-\\r\\n\\r\\n4,67-\\r\\n\\r\\n111,47-\\r\\n\\r\\n4,35-\\r\\n\\r\\n2,07-\\r\\n\\r\\n11,62-\\r\\n\\r\\n79,57\\r\\n\\r\\nTOTAL CONSOLIDADO\\r\\n\\r\\n845,01\\r\\n\\r\\n2.332,84\\r\\n\\r\\n699,86\\r\\n\\r\\n93,70\\r\\n\\r\\n1,14\\r\\n\\r\\n5,21\\r\\n\\r\\nHISTÓRICO DE CONSUMO\\r\\n\\r\\nkWh Dias\\r\\n\\r\\n2019 OUT lllllllllllllllllllllllllllllll\\r\\n\\r\\n4977 31\\r\\n\\r\\nSET llllllllllllllllllllllllll\\r\\n\\r\\n4130 31\\r\\n\\r\\nAGO llllllllllllllllllllllllll\\r\\n\\r\\n4054 30\\r\\n\\r\\nJUL llllllllllllllllllllllllllll\\r\\n\\r\\n4318 30\\r\\n\\r\\nJUN llllllllllllllllllllllllllll\\r\\n\\r\\n4415 31\\r\\n\\r\\nMAI lllllllllllllllllllllllllllllll\\r\\n\\r\\n4786 31\\r\\n\\r\\nABR lllllllllllllllllllllllllllllllll\\r\\n\\r\\n5351 28\\r\\n\\r\\nMAR lllllllllllllllllllllllllllllllllllllllllllllllllllllllll\\r\\n\\r\\n9111 32\\r\\n\\r\\nFEV lllllllllllllllllllllllllllllllllllllllllllllllllllllllllllllllllllllllll 11743 29\\r\\n\\r\\nJAN lllllllllllllllllllllllllllllllllllllllllllllllllllllllllll\\r\\n\\r\\n9323 29\\r\\n\\r\\n2018 DEZ llllllllllllllllllllllllllllllllllllllllllllllllllllllllllllllll\\r\\n\\r\\n10351 32\\r\\n\\r\\nNOV lllllllllllllllllllllllllllllllllllllllllllllll\\r\\n\\r\\n7566 31\\r\\n\\r\\nOUT lllllllllllllllllllllllll\\r\\n\\r\\n3893 29\\r\\n\\r\\nTARIFA ANEEL\\r\\n\\r\\nConsumo\\r\\n\\r\\nTUSD\\r\\n\\r\\nConsumo kWh\\r\\n\\r\\n0,29026000\\r\\n\\r\\nTE 0,27001000\\r\\n\\r\\nEQUIPAMENTOS DE MEDIÇÃO / DATAS DE LEITURA\\r\\n\\r\\nLeitura\\r\\n\\r\\nLeitura\\r\\n\\r\\nFator\\r\\n\\r\\nConsumo Taxa de Perda\\r\\n\\r\\nNº\\r\\n\\r\\nEnergia 10/10/2019 09/09/2019 Multipl.\\r\\n\\r\\n[kWh]\\r\\n\\r\\n[%]\\r\\n\\r\\n30965019\\r\\n\\r\\nATIVA 96370\\r\\n\\r\\n91393\\r\\n\\r\\n1,00\\r\\n\\r\\n4.977\\r\\n\\r\\nLeitura Próximo Mês 11/11/2019\\r\\n\\r\\nINDICADORES DE CONTINUIDADE DE FORNECIMENTO DE ENERGIA Para consulta dos indicadores acesse nosso site www.rge-rs.com.br\\r\\n\\r\\nINFORMAÇÕES SOBRE A FATURA\\r\\n\\r\\nSaldo em Energia da Instalação: Convencional 878,0000000000 kWh Saldo a expirar próximo mês: 0,0000000000 kWh Participação na geração 100.00% Considerar quitada se efetuado débito em conta corrente. Caso não ocorra o débito utilize esta conta para pagamento.\\r\\n\\r\\nEm 01/01/2019 a Tarifa Branca passou a vigorar também para clientes com consumo médio superior a 250 kWh/mês. Saiba mais: www.rge-rs.com.br\\r\\n\\r\\nAVISO IMPORTANTE\\r\\n\\r\\n------------------------------------------------------------------------------------------------------------------------------------------------------------------------------------------------\\r\\n\\r\\nNota Fiscal\\r\\n\\r\\nDÉBITO AUTOMÁTICO CódDébAut-Banco Total a Pagar (R$) Data de Vencimento\\r\\n\\r\\nConta de Energia Elétrica 049099919 Série U\\r\\n\\r\\nBanco 001\\r\\n\\r\\nAgência 0138\\r\\n\\r\\n910002713611\\r\\n\\r\\n845,01\\r\\n\\r\\n11/11/2019\\r\\n\\r\\nEssa conta poderá ser paga no credenciado mais perto de você. Confira a lista completa no site www.rge-rs.com.br\\r\\n\\r\\nMINI MERCADO E FRUTEIRA POPULAR MERCEARIA E BEBIDAS PEDROZO I QUERO QUERO LJ 24 - SANTO ANGELO\\r\\n\\r\\nRUA CARLOS GOMES 209 - CENTRO RUA RUDOLFO ROGOWSKI 178 - CENTRO RUA MARECHAL FLORIANO 1743 - CENTRO\\r\\n\\r\\n836600000084 450100863155 233756605090 100027136116\\r\\n\\r\\nAutenticação Mecânica\\r\\n\\r\\n\\x0c'"
     },
     "metadata": {},
     "output_type": "execute_result",
     "execution_count": 82
    }
   ],
   "source": [
    "texto = text.decode(\"utf-8\")\n",
    "texto"
   ],
   "metadata": {
    "collapsed": false,
    "pycharm": {
     "name": "#%%\n",
     "is_executing": false
    }
   }
  },
  {
   "cell_type": "code",
   "execution_count": null,
   "outputs": [],
   "source": [
    "\n"
   ],
   "metadata": {
    "collapsed": false,
    "pycharm": {
     "name": "#%%\n"
    }
   }
  }
 ],
 "metadata": {
  "kernelspec": {
   "display_name": "Python 3",
   "language": "python",
   "name": "python3"
  },
  "language_info": {
   "codemirror_mode": {
    "name": "ipython",
    "version": 2
   },
   "file_extension": ".py",
   "mimetype": "text/x-python",
   "name": "python",
   "nbconvert_exporter": "python",
   "pygments_lexer": "ipython2",
   "version": "2.7.6"
  },
  "pycharm": {
   "stem_cell": {
    "cell_type": "raw",
    "source": [],
    "metadata": {
     "collapsed": false
    }
   }
  }
 },
 "nbformat": 4,
 "nbformat_minor": 0
}